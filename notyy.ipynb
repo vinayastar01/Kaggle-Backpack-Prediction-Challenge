{
 "cells": [
  {
   "cell_type": "code",
   "execution_count": 1,
   "id": "3bb9a244",
   "metadata": {
    "_cell_guid": "b1076dfc-b9ad-4769-8c92-a6c4dae69d19",
    "_uuid": "8f2839f25d086af736a60e9eeb907d3b93b6e0e5",
    "execution": {
     "iopub.execute_input": "2025-02-09T09:41:25.432758Z",
     "iopub.status.busy": "2025-02-09T09:41:25.432250Z",
     "iopub.status.idle": "2025-02-09T09:41:26.512933Z",
     "shell.execute_reply": "2025-02-09T09:41:26.511544Z"
    },
    "papermill": {
     "duration": 1.096182,
     "end_time": "2025-02-09T09:41:26.515008",
     "exception": false,
     "start_time": "2025-02-09T09:41:25.418826",
     "status": "completed"
    },
    "tags": []
   },
   "outputs": [
    {
     "name": "stdout",
     "output_type": "stream",
     "text": [
      "/kaggle/input/playground-series-s5e2/sample_submission.csv\n",
      "/kaggle/input/playground-series-s5e2/train.csv\n",
      "/kaggle/input/playground-series-s5e2/test.csv\n",
      "/kaggle/input/playground-series-s5e2/training_extra.csv\n"
     ]
    }
   ],
   "source": [
    "# This Python 3 environment comes with many helpful analytics libraries installed\n",
    "# It is defined by the kaggle/python Docker image: https://github.com/kaggle/docker-python\n",
    "# For example, here's several helpful packages to load\n",
    "\n",
    "import numpy as np # linear algebra\n",
    "import pandas as pd # data processing, CSV file I/O (e.g. pd.read_csv)\n",
    "\n",
    "# Input data files are available in the read-only \"../input/\" directory\n",
    "# For example, running this (by clicking run or pressing Shift+Enter) will list all files under the input directory\n",
    "\n",
    "import os\n",
    "for dirname, _, filenames in os.walk('/kaggle/input'):\n",
    "    for filename in filenames:\n",
    "        print(os.path.join(dirname, filename))\n",
    "\n",
    "# You can write up to 20GB to the current directory (/kaggle/working/) that gets preserved as output when you create a version using \"Save & Run All\" \n",
    "# You can also write temporary files to /kaggle/temp/, but they won't be saved outside of the current session"
   ]
  },
  {
   "cell_type": "code",
   "execution_count": 2,
   "id": "af9acd5f",
   "metadata": {
    "execution": {
     "iopub.execute_input": "2025-02-09T09:41:26.541250Z",
     "iopub.status.busy": "2025-02-09T09:41:26.540578Z",
     "iopub.status.idle": "2025-02-09T09:41:28.089372Z",
     "shell.execute_reply": "2025-02-09T09:41:28.087903Z"
    },
    "papermill": {
     "duration": 1.565154,
     "end_time": "2025-02-09T09:41:28.092342",
     "exception": false,
     "start_time": "2025-02-09T09:41:26.527188",
     "status": "completed"
    },
    "tags": []
   },
   "outputs": [],
   "source": [
    "df=pd.read_csv('/kaggle/input/playground-series-s5e2/train.csv')\n",
    "test_df = pd.read_csv(\"/kaggle/input/playground-series-s5e2/test.csv\")"
   ]
  },
  {
   "cell_type": "code",
   "execution_count": 3,
   "id": "52b708cd",
   "metadata": {
    "execution": {
     "iopub.execute_input": "2025-02-09T09:41:28.128657Z",
     "iopub.status.busy": "2025-02-09T09:41:28.128177Z",
     "iopub.status.idle": "2025-02-09T09:41:28.176309Z",
     "shell.execute_reply": "2025-02-09T09:41:28.174969Z"
    },
    "papermill": {
     "duration": 0.063937,
     "end_time": "2025-02-09T09:41:28.178472",
     "exception": false,
     "start_time": "2025-02-09T09:41:28.114535",
     "status": "completed"
    },
    "tags": []
   },
   "outputs": [
    {
     "data": {
      "text/html": [
       "<div>\n",
       "<style scoped>\n",
       "    .dataframe tbody tr th:only-of-type {\n",
       "        vertical-align: middle;\n",
       "    }\n",
       "\n",
       "    .dataframe tbody tr th {\n",
       "        vertical-align: top;\n",
       "    }\n",
       "\n",
       "    .dataframe thead th {\n",
       "        text-align: right;\n",
       "    }\n",
       "</style>\n",
       "<table border=\"1\" class=\"dataframe\">\n",
       "  <thead>\n",
       "    <tr style=\"text-align: right;\">\n",
       "      <th></th>\n",
       "      <th>id</th>\n",
       "      <th>Brand</th>\n",
       "      <th>Material</th>\n",
       "      <th>Size</th>\n",
       "      <th>Compartments</th>\n",
       "      <th>Laptop Compartment</th>\n",
       "      <th>Waterproof</th>\n",
       "      <th>Style</th>\n",
       "      <th>Color</th>\n",
       "      <th>Weight Capacity (kg)</th>\n",
       "      <th>Price</th>\n",
       "    </tr>\n",
       "  </thead>\n",
       "  <tbody>\n",
       "    <tr>\n",
       "      <th>0</th>\n",
       "      <td>0</td>\n",
       "      <td>Jansport</td>\n",
       "      <td>Leather</td>\n",
       "      <td>Medium</td>\n",
       "      <td>7.0</td>\n",
       "      <td>Yes</td>\n",
       "      <td>No</td>\n",
       "      <td>Tote</td>\n",
       "      <td>Black</td>\n",
       "      <td>11.611723</td>\n",
       "      <td>112.15875</td>\n",
       "    </tr>\n",
       "    <tr>\n",
       "      <th>1</th>\n",
       "      <td>1</td>\n",
       "      <td>Jansport</td>\n",
       "      <td>Canvas</td>\n",
       "      <td>Small</td>\n",
       "      <td>10.0</td>\n",
       "      <td>Yes</td>\n",
       "      <td>Yes</td>\n",
       "      <td>Messenger</td>\n",
       "      <td>Green</td>\n",
       "      <td>27.078537</td>\n",
       "      <td>68.88056</td>\n",
       "    </tr>\n",
       "    <tr>\n",
       "      <th>2</th>\n",
       "      <td>2</td>\n",
       "      <td>Under Armour</td>\n",
       "      <td>Leather</td>\n",
       "      <td>Small</td>\n",
       "      <td>2.0</td>\n",
       "      <td>Yes</td>\n",
       "      <td>No</td>\n",
       "      <td>Messenger</td>\n",
       "      <td>Red</td>\n",
       "      <td>16.643760</td>\n",
       "      <td>39.17320</td>\n",
       "    </tr>\n",
       "    <tr>\n",
       "      <th>3</th>\n",
       "      <td>3</td>\n",
       "      <td>Nike</td>\n",
       "      <td>Nylon</td>\n",
       "      <td>Small</td>\n",
       "      <td>8.0</td>\n",
       "      <td>Yes</td>\n",
       "      <td>No</td>\n",
       "      <td>Messenger</td>\n",
       "      <td>Green</td>\n",
       "      <td>12.937220</td>\n",
       "      <td>80.60793</td>\n",
       "    </tr>\n",
       "    <tr>\n",
       "      <th>4</th>\n",
       "      <td>4</td>\n",
       "      <td>Adidas</td>\n",
       "      <td>Canvas</td>\n",
       "      <td>Medium</td>\n",
       "      <td>1.0</td>\n",
       "      <td>Yes</td>\n",
       "      <td>Yes</td>\n",
       "      <td>Messenger</td>\n",
       "      <td>Green</td>\n",
       "      <td>17.749338</td>\n",
       "      <td>86.02312</td>\n",
       "    </tr>\n",
       "    <tr>\n",
       "      <th>...</th>\n",
       "      <td>...</td>\n",
       "      <td>...</td>\n",
       "      <td>...</td>\n",
       "      <td>...</td>\n",
       "      <td>...</td>\n",
       "      <td>...</td>\n",
       "      <td>...</td>\n",
       "      <td>...</td>\n",
       "      <td>...</td>\n",
       "      <td>...</td>\n",
       "      <td>...</td>\n",
       "    </tr>\n",
       "    <tr>\n",
       "      <th>299995</th>\n",
       "      <td>299995</td>\n",
       "      <td>Adidas</td>\n",
       "      <td>Leather</td>\n",
       "      <td>Small</td>\n",
       "      <td>9.0</td>\n",
       "      <td>No</td>\n",
       "      <td>No</td>\n",
       "      <td>Tote</td>\n",
       "      <td>Blue</td>\n",
       "      <td>12.730812</td>\n",
       "      <td>129.99749</td>\n",
       "    </tr>\n",
       "    <tr>\n",
       "      <th>299996</th>\n",
       "      <td>299996</td>\n",
       "      <td>Jansport</td>\n",
       "      <td>Leather</td>\n",
       "      <td>Large</td>\n",
       "      <td>6.0</td>\n",
       "      <td>No</td>\n",
       "      <td>Yes</td>\n",
       "      <td>Tote</td>\n",
       "      <td>Blue</td>\n",
       "      <td>26.633182</td>\n",
       "      <td>19.85819</td>\n",
       "    </tr>\n",
       "    <tr>\n",
       "      <th>299997</th>\n",
       "      <td>299997</td>\n",
       "      <td>Puma</td>\n",
       "      <td>Canvas</td>\n",
       "      <td>Large</td>\n",
       "      <td>9.0</td>\n",
       "      <td>Yes</td>\n",
       "      <td>Yes</td>\n",
       "      <td>Backpack</td>\n",
       "      <td>Pink</td>\n",
       "      <td>11.898250</td>\n",
       "      <td>111.41364</td>\n",
       "    </tr>\n",
       "    <tr>\n",
       "      <th>299998</th>\n",
       "      <td>299998</td>\n",
       "      <td>Adidas</td>\n",
       "      <td>Nylon</td>\n",
       "      <td>Small</td>\n",
       "      <td>1.0</td>\n",
       "      <td>No</td>\n",
       "      <td>Yes</td>\n",
       "      <td>Tote</td>\n",
       "      <td>Pink</td>\n",
       "      <td>6.175738</td>\n",
       "      <td>115.89080</td>\n",
       "    </tr>\n",
       "    <tr>\n",
       "      <th>299999</th>\n",
       "      <td>299999</td>\n",
       "      <td>Under Armour</td>\n",
       "      <td>Canvas</td>\n",
       "      <td>Small</td>\n",
       "      <td>2.0</td>\n",
       "      <td>No</td>\n",
       "      <td>Yes</td>\n",
       "      <td>Backpack</td>\n",
       "      <td>Black</td>\n",
       "      <td>18.568865</td>\n",
       "      <td>26.72762</td>\n",
       "    </tr>\n",
       "  </tbody>\n",
       "</table>\n",
       "<p>300000 rows × 11 columns</p>\n",
       "</div>"
      ],
      "text/plain": [
       "            id         Brand Material    Size  Compartments  \\\n",
       "0            0      Jansport  Leather  Medium           7.0   \n",
       "1            1      Jansport   Canvas   Small          10.0   \n",
       "2            2  Under Armour  Leather   Small           2.0   \n",
       "3            3          Nike    Nylon   Small           8.0   \n",
       "4            4        Adidas   Canvas  Medium           1.0   \n",
       "...        ...           ...      ...     ...           ...   \n",
       "299995  299995        Adidas  Leather   Small           9.0   \n",
       "299996  299996      Jansport  Leather   Large           6.0   \n",
       "299997  299997          Puma   Canvas   Large           9.0   \n",
       "299998  299998        Adidas    Nylon   Small           1.0   \n",
       "299999  299999  Under Armour   Canvas   Small           2.0   \n",
       "\n",
       "       Laptop Compartment Waterproof      Style  Color  Weight Capacity (kg)  \\\n",
       "0                     Yes         No       Tote  Black             11.611723   \n",
       "1                     Yes        Yes  Messenger  Green             27.078537   \n",
       "2                     Yes         No  Messenger    Red             16.643760   \n",
       "3                     Yes         No  Messenger  Green             12.937220   \n",
       "4                     Yes        Yes  Messenger  Green             17.749338   \n",
       "...                   ...        ...        ...    ...                   ...   \n",
       "299995                 No         No       Tote   Blue             12.730812   \n",
       "299996                 No        Yes       Tote   Blue             26.633182   \n",
       "299997                Yes        Yes   Backpack   Pink             11.898250   \n",
       "299998                 No        Yes       Tote   Pink              6.175738   \n",
       "299999                 No        Yes   Backpack  Black             18.568865   \n",
       "\n",
       "            Price  \n",
       "0       112.15875  \n",
       "1        68.88056  \n",
       "2        39.17320  \n",
       "3        80.60793  \n",
       "4        86.02312  \n",
       "...           ...  \n",
       "299995  129.99749  \n",
       "299996   19.85819  \n",
       "299997  111.41364  \n",
       "299998  115.89080  \n",
       "299999   26.72762  \n",
       "\n",
       "[300000 rows x 11 columns]"
      ]
     },
     "execution_count": 3,
     "metadata": {},
     "output_type": "execute_result"
    }
   ],
   "source": [
    "df"
   ]
  },
  {
   "cell_type": "code",
   "execution_count": 4,
   "id": "48acc690",
   "metadata": {
    "execution": {
     "iopub.execute_input": "2025-02-09T09:41:28.204748Z",
     "iopub.status.busy": "2025-02-09T09:41:28.204241Z",
     "iopub.status.idle": "2025-02-09T09:41:28.349035Z",
     "shell.execute_reply": "2025-02-09T09:41:28.347604Z"
    },
    "papermill": {
     "duration": 0.16077,
     "end_time": "2025-02-09T09:41:28.351543",
     "exception": false,
     "start_time": "2025-02-09T09:41:28.190773",
     "status": "completed"
    },
    "tags": []
   },
   "outputs": [
    {
     "name": "stdout",
     "output_type": "stream",
     "text": [
      "<class 'pandas.core.frame.DataFrame'>\n",
      "RangeIndex: 300000 entries, 0 to 299999\n",
      "Data columns (total 11 columns):\n",
      " #   Column                Non-Null Count   Dtype  \n",
      "---  ------                --------------   -----  \n",
      " 0   id                    300000 non-null  int64  \n",
      " 1   Brand                 290295 non-null  object \n",
      " 2   Material              291653 non-null  object \n",
      " 3   Size                  293405 non-null  object \n",
      " 4   Compartments          300000 non-null  float64\n",
      " 5   Laptop Compartment    292556 non-null  object \n",
      " 6   Waterproof            292950 non-null  object \n",
      " 7   Style                 292030 non-null  object \n",
      " 8   Color                 290050 non-null  object \n",
      " 9   Weight Capacity (kg)  299862 non-null  float64\n",
      " 10  Price                 300000 non-null  float64\n",
      "dtypes: float64(3), int64(1), object(7)\n",
      "memory usage: 25.2+ MB\n"
     ]
    }
   ],
   "source": [
    "df.info()"
   ]
  },
  {
   "cell_type": "code",
   "execution_count": 5,
   "id": "5d25ac15",
   "metadata": {
    "execution": {
     "iopub.execute_input": "2025-02-09T09:41:28.401866Z",
     "iopub.status.busy": "2025-02-09T09:41:28.401376Z",
     "iopub.status.idle": "2025-02-09T09:41:28.526221Z",
     "shell.execute_reply": "2025-02-09T09:41:28.524771Z"
    },
    "papermill": {
     "duration": 0.151866,
     "end_time": "2025-02-09T09:41:28.528271",
     "exception": false,
     "start_time": "2025-02-09T09:41:28.376405",
     "status": "completed"
    },
    "tags": []
   },
   "outputs": [
    {
     "data": {
      "text/plain": [
       "id                         0\n",
       "Brand                   9705\n",
       "Material                8347\n",
       "Size                    6595\n",
       "Compartments               0\n",
       "Laptop Compartment      7444\n",
       "Waterproof              7050\n",
       "Style                   7970\n",
       "Color                   9950\n",
       "Weight Capacity (kg)     138\n",
       "Price                      0\n",
       "dtype: int64"
      ]
     },
     "execution_count": 5,
     "metadata": {},
     "output_type": "execute_result"
    }
   ],
   "source": [
    "df.isnull().sum()"
   ]
  },
  {
   "cell_type": "code",
   "execution_count": 6,
   "id": "23515de1",
   "metadata": {
    "execution": {
     "iopub.execute_input": "2025-02-09T09:41:28.555534Z",
     "iopub.status.busy": "2025-02-09T09:41:28.555187Z",
     "iopub.status.idle": "2025-02-09T09:41:28.589123Z",
     "shell.execute_reply": "2025-02-09T09:41:28.587968Z"
    },
    "papermill": {
     "duration": 0.050004,
     "end_time": "2025-02-09T09:41:28.591139",
     "exception": false,
     "start_time": "2025-02-09T09:41:28.541135",
     "status": "completed"
    },
    "tags": []
   },
   "outputs": [
    {
     "data": {
      "text/plain": [
       "Brand\n",
       "Adidas          60077\n",
       "Under Armour    59992\n",
       "Nike            57336\n",
       "Puma            56814\n",
       "Jansport        56076\n",
       "Name: count, dtype: int64"
      ]
     },
     "execution_count": 6,
     "metadata": {},
     "output_type": "execute_result"
    }
   ],
   "source": [
    "df.value_counts('Brand')"
   ]
  },
  {
   "cell_type": "code",
   "execution_count": 7,
   "id": "69c4e34f",
   "metadata": {
    "execution": {
     "iopub.execute_input": "2025-02-09T09:41:28.618602Z",
     "iopub.status.busy": "2025-02-09T09:41:28.618117Z",
     "iopub.status.idle": "2025-02-09T09:41:28.662043Z",
     "shell.execute_reply": "2025-02-09T09:41:28.660514Z"
    },
    "papermill": {
     "duration": 0.059869,
     "end_time": "2025-02-09T09:41:28.664357",
     "exception": false,
     "start_time": "2025-02-09T09:41:28.604488",
     "status": "completed"
    },
    "tags": []
   },
   "outputs": [],
   "source": [
    "\n",
    "df['Brand'] = df.Brand.fillna('Adidas')\n",
    "test_df['Brand'] = test_df.Brand.fillna('Adidas')\n"
   ]
  },
  {
   "cell_type": "code",
   "execution_count": 8,
   "id": "5a2e050d",
   "metadata": {
    "execution": {
     "iopub.execute_input": "2025-02-09T09:41:28.690879Z",
     "iopub.status.busy": "2025-02-09T09:41:28.690474Z",
     "iopub.status.idle": "2025-02-09T09:41:28.805402Z",
     "shell.execute_reply": "2025-02-09T09:41:28.804247Z"
    },
    "papermill": {
     "duration": 0.130326,
     "end_time": "2025-02-09T09:41:28.807454",
     "exception": false,
     "start_time": "2025-02-09T09:41:28.677128",
     "status": "completed"
    },
    "tags": []
   },
   "outputs": [
    {
     "data": {
      "text/plain": [
       "id                         0\n",
       "Brand                      0\n",
       "Material                8347\n",
       "Size                    6595\n",
       "Compartments               0\n",
       "Laptop Compartment      7444\n",
       "Waterproof              7050\n",
       "Style                   7970\n",
       "Color                   9950\n",
       "Weight Capacity (kg)     138\n",
       "Price                      0\n",
       "dtype: int64"
      ]
     },
     "execution_count": 8,
     "metadata": {},
     "output_type": "execute_result"
    }
   ],
   "source": [
    "df.isnull().sum()\n"
   ]
  },
  {
   "cell_type": "code",
   "execution_count": 9,
   "id": "c592efdf",
   "metadata": {
    "execution": {
     "iopub.execute_input": "2025-02-09T09:41:28.834422Z",
     "iopub.status.busy": "2025-02-09T09:41:28.834074Z",
     "iopub.status.idle": "2025-02-09T09:41:28.863036Z",
     "shell.execute_reply": "2025-02-09T09:41:28.861951Z"
    },
    "papermill": {
     "duration": 0.043987,
     "end_time": "2025-02-09T09:41:28.864778",
     "exception": false,
     "start_time": "2025-02-09T09:41:28.820791",
     "status": "completed"
    },
    "tags": []
   },
   "outputs": [
    {
     "data": {
      "text/plain": [
       "Brand\n",
       "Adidas          69782\n",
       "Under Armour    59992\n",
       "Nike            57336\n",
       "Puma            56814\n",
       "Jansport        56076\n",
       "Name: count, dtype: int64"
      ]
     },
     "execution_count": 9,
     "metadata": {},
     "output_type": "execute_result"
    }
   ],
   "source": [
    "df['Brand'].value_counts()\n"
   ]
  },
  {
   "cell_type": "code",
   "execution_count": 10,
   "id": "31cdbd38",
   "metadata": {
    "execution": {
     "iopub.execute_input": "2025-02-09T09:41:28.890767Z",
     "iopub.status.busy": "2025-02-09T09:41:28.890363Z",
     "iopub.status.idle": "2025-02-09T09:41:29.271276Z",
     "shell.execute_reply": "2025-02-09T09:41:29.270111Z"
    },
    "papermill": {
     "duration": 0.396105,
     "end_time": "2025-02-09T09:41:29.273250",
     "exception": false,
     "start_time": "2025-02-09T09:41:28.877145",
     "status": "completed"
    },
    "tags": []
   },
   "outputs": [
    {
     "data": {
      "text/plain": [
       "<Axes: xlabel='Brand'>"
      ]
     },
     "execution_count": 10,
     "metadata": {},
     "output_type": "execute_result"
    },
    {
     "data": {
      "image/png": "[encoded data removed]",
      "text/plain": [
       "<Figure size 640x480 with 1 Axes>"
      ]
     },
     "metadata": {},
     "output_type": "display_data"
    }
   ],
   "source": [
    "p= df['Brand'].value_counts()\n",
    "p.plot(kind\n",
    "       =\"bar\")"
   ]
  },
  {
   "cell_type": "code",
   "execution_count": 11,
   "id": "cf6817a2",
   "metadata": {
    "execution": {
     "iopub.execute_input": "2025-02-09T09:41:29.300052Z",
     "iopub.status.busy": "2025-02-09T09:41:29.299605Z",
     "iopub.status.idle": "2025-02-09T09:41:29.343694Z",
     "shell.execute_reply": "2025-02-09T09:41:29.342368Z"
    },
    "papermill": {
     "duration": 0.059741,
     "end_time": "2025-02-09T09:41:29.345691",
     "exception": false,
     "start_time": "2025-02-09T09:41:29.285950",
     "status": "completed"
    },
    "tags": []
   },
   "outputs": [
    {
     "data": {
      "text/plain": [
       "Material\n",
       "Polyester    53027\n",
       "Leather      48989\n",
       "Nylon        47493\n",
       "Canvas       44878\n",
       "Name: count, dtype: int64"
      ]
     },
     "execution_count": 11,
     "metadata": {},
     "output_type": "execute_result"
    }
   ],
   "source": [
    "df['Material'].value_counts()\n",
    "test_df['Material'].value_counts()"
   ]
  },
  {
   "cell_type": "code",
   "execution_count": 12,
   "id": "83623174",
   "metadata": {
    "execution": {
     "iopub.execute_input": "2025-02-09T09:41:29.372441Z",
     "iopub.status.busy": "2025-02-09T09:41:29.372107Z",
     "iopub.status.idle": "2025-02-09T09:41:29.411266Z",
     "shell.execute_reply": "2025-02-09T09:41:29.410090Z"
    },
    "papermill": {
     "duration": 0.054737,
     "end_time": "2025-02-09T09:41:29.413250",
     "exception": false,
     "start_time": "2025-02-09T09:41:29.358513",
     "status": "completed"
    },
    "tags": []
   },
   "outputs": [],
   "source": [
    "df['Material'] = df['Material'].fillna('Polyester')\n",
    "test_df['Material'] = test_df['Material'].fillna('Polyester')"
   ]
  },
  {
   "cell_type": "code",
   "execution_count": 13,
   "id": "883782dd",
   "metadata": {
    "execution": {
     "iopub.execute_input": "2025-02-09T09:41:29.440080Z",
     "iopub.status.busy": "2025-02-09T09:41:29.439726Z",
     "iopub.status.idle": "2025-02-09T09:41:29.460971Z",
     "shell.execute_reply": "2025-02-09T09:41:29.459860Z"
    },
    "papermill": {
     "duration": 0.036644,
     "end_time": "2025-02-09T09:41:29.462810",
     "exception": false,
     "start_time": "2025-02-09T09:41:29.426166",
     "status": "completed"
    },
    "tags": []
   },
   "outputs": [
    {
     "data": {
      "text/plain": [
       "0"
      ]
     },
     "execution_count": 13,
     "metadata": {},
     "output_type": "execute_result"
    }
   ],
   "source": [
    "df['Material'].isnull().sum()\n"
   ]
  },
  {
   "cell_type": "code",
   "execution_count": 14,
   "id": "af3199d3",
   "metadata": {
    "execution": {
     "iopub.execute_input": "2025-02-09T09:41:29.490884Z",
     "iopub.status.busy": "2025-02-09T09:41:29.490495Z",
     "iopub.status.idle": "2025-02-09T09:41:29.722495Z",
     "shell.execute_reply": "2025-02-09T09:41:29.721264Z"
    },
    "papermill": {
     "duration": 0.248042,
     "end_time": "2025-02-09T09:41:29.724485",
     "exception": false,
     "start_time": "2025-02-09T09:41:29.476443",
     "status": "completed"
    },
    "tags": []
   },
   "outputs": [
    {
     "name": "stdout",
     "output_type": "stream",
     "text": [
      "Material\n",
      "Polyester    87977\n",
      "Leather      73416\n",
      "Nylon        70603\n",
      "Canvas       68004\n",
      "Name: count, dtype: int64\n",
      " \n",
      "Null Values\n",
      "0\n",
      " \n",
      "-----------\n",
      " \n"
     ]
    },
    {
     "data": {
      "text/plain": [
       "<Axes: xlabel='Material'>"
      ]
     },
     "execution_count": 14,
     "metadata": {},
     "output_type": "execute_result"
    },
    {
     "data": {
      "image/png": "[encoded data removed]",
      "text/plain": [
       "<Figure size 640x480 with 1 Axes>"
      ]
     },
     "metadata": {},
     "output_type": "display_data"
    }
   ],
   "source": [
    "print(df['Material'].value_counts())\n",
    "print(\" \")\n",
    "print(\"Null Values\")\n",
    "print(df['Material'].isnull().sum())\n",
    "print(\" \")\n",
    "print(\"-----------\")\n",
    "print(\" \")\n",
    "p = df['Material'].value_counts()\n",
    "p.plot(kind=\"bar\")"
   ]
  },
  {
   "cell_type": "code",
   "execution_count": 15,
   "id": "1a1a4ba2",
   "metadata": {
    "execution": {
     "iopub.execute_input": "2025-02-09T09:41:29.753158Z",
     "iopub.status.busy": "2025-02-09T09:41:29.752783Z",
     "iopub.status.idle": "2025-02-09T09:41:29.797184Z",
     "shell.execute_reply": "2025-02-09T09:41:29.795916Z"
    },
    "papermill": {
     "duration": 0.060984,
     "end_time": "2025-02-09T09:41:29.799173",
     "exception": false,
     "start_time": "2025-02-09T09:41:29.738189",
     "status": "completed"
    },
    "tags": []
   },
   "outputs": [
    {
     "name": "stdout",
     "output_type": "stream",
     "text": [
      "Size\n",
      "Medium    101906\n",
      "Large      98643\n",
      "Small      92856\n",
      "Name: count, dtype: int64\n",
      " \n",
      "Null Values\n",
      " \n",
      "6595\n"
     ]
    }
   ],
   "source": [
    "print(df['Size'].value_counts())\n",
    "print(\" \")\n",
    "print(\"Null Values\")\n",
    "print(\" \")\n",
    "print(df['Size'].isnull().sum())\n",
    "\n"
   ]
  },
  {
   "cell_type": "code",
   "execution_count": 16,
   "id": "d92495fd",
   "metadata": {
    "execution": {
     "iopub.execute_input": "2025-02-09T09:41:29.828303Z",
     "iopub.status.busy": "2025-02-09T09:41:29.827906Z",
     "iopub.status.idle": "2025-02-09T09:41:29.867041Z",
     "shell.execute_reply": "2025-02-09T09:41:29.865756Z"
    },
    "papermill": {
     "duration": 0.056343,
     "end_time": "2025-02-09T09:41:29.869178",
     "exception": false,
     "start_time": "2025-02-09T09:41:29.812835",
     "status": "completed"
    },
    "tags": []
   },
   "outputs": [],
   "source": [
    "df['Size'] = df['Size'].fillna('Medium')\n",
    "test_df['Size'] = test_df['Size'].fillna('Medium')\n"
   ]
  },
  {
   "cell_type": "code",
   "execution_count": 17,
   "id": "f31404ca",
   "metadata": {
    "execution": {
     "iopub.execute_input": "2025-02-09T09:41:29.897846Z",
     "iopub.status.busy": "2025-02-09T09:41:29.897432Z",
     "iopub.status.idle": "2025-02-09T09:41:30.131422Z",
     "shell.execute_reply": "2025-02-09T09:41:30.130210Z"
    },
    "papermill": {
     "duration": 0.250867,
     "end_time": "2025-02-09T09:41:30.133688",
     "exception": false,
     "start_time": "2025-02-09T09:41:29.882821",
     "status": "completed"
    },
    "tags": []
   },
   "outputs": [
    {
     "name": "stdout",
     "output_type": "stream",
     "text": [
      "Size\n",
      "Medium    108501\n",
      "Large      98643\n",
      "Small      92856\n",
      "Name: count, dtype: int64\n",
      " \n",
      "Null Values\n",
      "0\n",
      " \n",
      "-----------\n",
      " \n"
     ]
    },
    {
     "data": {
      "text/plain": [
       "<Axes: xlabel='Size'>"
      ]
     },
     "execution_count": 17,
     "metadata": {},
     "output_type": "execute_result"
    },
    {
     "data": {
      "image/png": "[encoded data removed]",
      "text/plain": [
       "<Figure size 640x480 with 1 Axes>"
      ]
     },
     "metadata": {},
     "output_type": "display_data"
    }
   ],
   "source": [
    "print(df['Size'].value_counts())\n",
    "print(\" \")\n",
    "print(\"Null Values\")\n",
    "print(df['Size'].isnull().sum())\n",
    "print(\" \")\n",
    "print(\"-----------\")\n",
    "print(\" \")\n",
    "p = df['Size'].value_counts()\n",
    "p.plot(kind=\"bar\")"
   ]
  },
  {
   "cell_type": "code",
   "execution_count": 18,
   "id": "d7bc7ec6",
   "metadata": {
    "execution": {
     "iopub.execute_input": "2025-02-09T09:41:30.167645Z",
     "iopub.status.busy": "2025-02-09T09:41:30.167245Z",
     "iopub.status.idle": "2025-02-09T09:41:30.182516Z",
     "shell.execute_reply": "2025-02-09T09:41:30.181103Z"
    },
    "papermill": {
     "duration": 0.034706,
     "end_time": "2025-02-09T09:41:30.184451",
     "exception": false,
     "start_time": "2025-02-09T09:41:30.149745",
     "status": "completed"
    },
    "tags": []
   },
   "outputs": [
    {
     "name": "stdout",
     "output_type": "stream",
     "text": [
      "Compartments\n",
      "1.0     31568\n",
      "4.0     31498\n",
      "2.0     30595\n",
      "3.0     30293\n",
      "7.0     30158\n",
      "9.0     29965\n",
      "5.0     29959\n",
      "10.0    29815\n",
      "8.0     28909\n",
      "6.0     27240\n",
      "Name: count, dtype: int64\n",
      " \n",
      "Null values\n",
      "0\n"
     ]
    }
   ],
   "source": [
    "print(df['Compartments'].value_counts())\n",
    "print(\" \")\n",
    "print(\"Null values\")\n",
    "print(df['Compartments'].isnull().sum())"
   ]
  },
  {
   "cell_type": "code",
   "execution_count": 19,
   "id": "0f39d97e",
   "metadata": {
    "execution": {
     "iopub.execute_input": "2025-02-09T09:41:30.216092Z",
     "iopub.status.busy": "2025-02-09T09:41:30.215699Z",
     "iopub.status.idle": "2025-02-09T09:41:30.260207Z",
     "shell.execute_reply": "2025-02-09T09:41:30.258389Z"
    },
    "papermill": {
     "duration": 0.063332,
     "end_time": "2025-02-09T09:41:30.262546",
     "exception": false,
     "start_time": "2025-02-09T09:41:30.199214",
     "status": "completed"
    },
    "tags": []
   },
   "outputs": [
    {
     "name": "stdout",
     "output_type": "stream",
     "text": [
      "Laptop Compartment\n",
      "Yes    148342\n",
      "No     144214\n",
      "Name: count, dtype: int64\n",
      " \n",
      "Null values\n",
      "7444\n"
     ]
    }
   ],
   "source": [
    "print(df['Laptop Compartment'].value_counts())\n",
    "print(\" \")\n",
    "print(\"Null values\")\n",
    "print(df['Laptop Compartment'].isnull().sum())"
   ]
  },
  {
   "cell_type": "code",
   "execution_count": 20,
   "id": "29c8830b",
   "metadata": {
    "execution": {
     "iopub.execute_input": "2025-02-09T09:41:30.293561Z",
     "iopub.status.busy": "2025-02-09T09:41:30.293205Z",
     "iopub.status.idle": "2025-02-09T09:41:30.333533Z",
     "shell.execute_reply": "2025-02-09T09:41:30.331977Z"
    },
    "papermill": {
     "duration": 0.058269,
     "end_time": "2025-02-09T09:41:30.335829",
     "exception": false,
     "start_time": "2025-02-09T09:41:30.277560",
     "status": "completed"
    },
    "tags": []
   },
   "outputs": [],
   "source": [
    "df['Laptop Compartment'] = df['Laptop Compartment'].fillna('Yes')\n",
    "test_df['Laptop Compartment'] = test_df['Laptop Compartment'].fillna('Yes')"
   ]
  },
  {
   "cell_type": "code",
   "execution_count": 21,
   "id": "e7629765",
   "metadata": {
    "execution": {
     "iopub.execute_input": "2025-02-09T09:41:30.365825Z",
     "iopub.status.busy": "2025-02-09T09:41:30.365404Z",
     "iopub.status.idle": "2025-02-09T09:41:30.605331Z",
     "shell.execute_reply": "2025-02-09T09:41:30.604001Z"
    },
    "papermill": {
     "duration": 0.256975,
     "end_time": "2025-02-09T09:41:30.607247",
     "exception": false,
     "start_time": "2025-02-09T09:41:30.350272",
     "status": "completed"
    },
    "tags": []
   },
   "outputs": [
    {
     "name": "stdout",
     "output_type": "stream",
     "text": [
      "Laptop Compartment\n",
      "Yes    155786\n",
      "No     144214\n",
      "Name: count, dtype: int64\n",
      " \n",
      "Null Values\n",
      "0\n",
      " \n",
      "-----------\n",
      " \n"
     ]
    },
    {
     "data": {
      "text/plain": [
       "<Axes: xlabel='Laptop Compartment'>"
      ]
     },
     "execution_count": 21,
     "metadata": {},
     "output_type": "execute_result"
    },
    {
     "data": {
      "image/png": "[encoded data removed]",
      "text/plain": [
       "<Figure size 640x480 with 1 Axes>"
      ]
     },
     "metadata": {},
     "output_type": "display_data"
    }
   ],
   "source": [
    "print(df['Laptop Compartment'].value_counts())\n",
    "print(\" \")\n",
    "print(\"Null Values\")\n",
    "print(df['Laptop Compartment'].isnull().sum())\n",
    "print(\" \")\n",
    "print(\"-----------\")\n",
    "print(\" \")\n",
    "p = df['Laptop Compartment'].value_counts()\n",
    "p.plot(kind=\"bar\")"
   ]
  },
  {
   "cell_type": "code",
   "execution_count": 22,
   "id": "324c027e",
   "metadata": {
    "execution": {
     "iopub.execute_input": "2025-02-09T09:41:30.639961Z",
     "iopub.status.busy": "2025-02-09T09:41:30.639555Z",
     "iopub.status.idle": "2025-02-09T09:41:30.682895Z",
     "shell.execute_reply": "2025-02-09T09:41:30.681550Z"
    },
    "papermill": {
     "duration": 0.062518,
     "end_time": "2025-02-09T09:41:30.684680",
     "exception": false,
     "start_time": "2025-02-09T09:41:30.622162",
     "status": "completed"
    },
    "tags": []
   },
   "outputs": [
    {
     "name": "stdout",
     "output_type": "stream",
     "text": [
      "Waterproof\n",
      "Yes    148077\n",
      "No     144873\n",
      "Name: count, dtype: int64\n",
      " \n",
      "Null Values\n",
      " \n",
      "7050\n"
     ]
    }
   ],
   "source": [
    "print(df['Waterproof'].value_counts())\n",
    "print(\" \")\n",
    "print(\"Null Values\")\n",
    "print(\" \")\n",
    "print(df['Waterproof'].isnull().sum())"
   ]
  },
  {
   "cell_type": "code",
   "execution_count": 23,
   "id": "331bb971",
   "metadata": {
    "execution": {
     "iopub.execute_input": "2025-02-09T09:41:30.716312Z",
     "iopub.status.busy": "2025-02-09T09:41:30.715950Z",
     "iopub.status.idle": "2025-02-09T09:41:30.755773Z",
     "shell.execute_reply": "2025-02-09T09:41:30.754452Z"
    },
    "papermill": {
     "duration": 0.05822,
     "end_time": "2025-02-09T09:41:30.757913",
     "exception": false,
     "start_time": "2025-02-09T09:41:30.699693",
     "status": "completed"
    },
    "tags": []
   },
   "outputs": [],
   "source": [
    "df['Waterproof'] = df['Waterproof'].fillna('Yes')\n",
    "test_df['Waterproof'] = test_df['Waterproof'].fillna('Yes')"
   ]
  },
  {
   "cell_type": "code",
   "execution_count": 24,
   "id": "30e2f23d",
   "metadata": {
    "execution": {
     "iopub.execute_input": "2025-02-09T09:41:30.790483Z",
     "iopub.status.busy": "2025-02-09T09:41:30.790109Z",
     "iopub.status.idle": "2025-02-09T09:41:31.029302Z",
     "shell.execute_reply": "2025-02-09T09:41:31.028002Z"
    },
    "papermill": {
     "duration": 0.258381,
     "end_time": "2025-02-09T09:41:31.031150",
     "exception": false,
     "start_time": "2025-02-09T09:41:30.772769",
     "status": "completed"
    },
    "tags": []
   },
   "outputs": [
    {
     "name": "stdout",
     "output_type": "stream",
     "text": [
      "Waterproof\n",
      "Yes    155127\n",
      "No     144873\n",
      "Name: count, dtype: int64\n",
      " \n",
      "Null Values\n",
      "0\n",
      " \n",
      "-----------\n",
      " \n"
     ]
    },
    {
     "data": {
      "text/plain": [
       "<Axes: xlabel='Waterproof'>"
      ]
     },
     "execution_count": 24,
     "metadata": {},
     "output_type": "execute_result"
    },
    {
     "data": {
      "image/png": "[encoded data removed]",
      "text/plain": [
       "<Figure size 640x480 with 1 Axes>"
      ]
     },
     "metadata": {},
     "output_type": "display_data"
    }
   ],
   "source": [
    "print(df['Waterproof'].value_counts())\n",
    "print(\" \")\n",
    "print(\"Null Values\")\n",
    "print(df['Waterproof'].isnull().sum())\n",
    "print(\" \")\n",
    "print(\"-----------\")\n",
    "print(\" \")\n",
    "p = df['Waterproof'].value_counts()\n",
    "p.plot(kind=\"bar\")"
   ]
  },
  {
   "cell_type": "code",
   "execution_count": 25,
   "id": "b77352ee",
   "metadata": {
    "execution": {
     "iopub.execute_input": "2025-02-09T09:41:31.063643Z",
     "iopub.status.busy": "2025-02-09T09:41:31.063289Z",
     "iopub.status.idle": "2025-02-09T09:41:31.107368Z",
     "shell.execute_reply": "2025-02-09T09:41:31.106347Z"
    },
    "papermill": {
     "duration": 0.062714,
     "end_time": "2025-02-09T09:41:31.109314",
     "exception": false,
     "start_time": "2025-02-09T09:41:31.046600",
     "status": "completed"
    },
    "tags": []
   },
   "outputs": [
    {
     "name": "stdout",
     "output_type": "stream",
     "text": [
      "Style\n",
      "Messenger    100031\n",
      "Tote          97438\n",
      "Backpack      94561\n",
      "Name: count, dtype: int64\n",
      " \n",
      "Null Values\n",
      " \n",
      "7970\n"
     ]
    }
   ],
   "source": [
    "print(df['Style'].value_counts())\n",
    "print(\" \")\n",
    "print(\"Null Values\")\n",
    "print(\" \")\n",
    "print(df['Style'].isnull().sum())"
   ]
  },
  {
   "cell_type": "code",
   "execution_count": 26,
   "id": "75b31372",
   "metadata": {
    "execution": {
     "iopub.execute_input": "2025-02-09T09:41:31.141998Z",
     "iopub.status.busy": "2025-02-09T09:41:31.141576Z",
     "iopub.status.idle": "2025-02-09T09:41:31.181347Z",
     "shell.execute_reply": "2025-02-09T09:41:31.180206Z"
    },
    "papermill": {
     "duration": 0.058322,
     "end_time": "2025-02-09T09:41:31.183444",
     "exception": false,
     "start_time": "2025-02-09T09:41:31.125122",
     "status": "completed"
    },
    "tags": []
   },
   "outputs": [],
   "source": [
    "df['Style'] = df['Style'].fillna('Messenger')\n",
    "test_df['Style'] = test_df['Style'].fillna('Messenger')"
   ]
  },
  {
   "cell_type": "code",
   "execution_count": 27,
   "id": "09ef8996",
   "metadata": {
    "execution": {
     "iopub.execute_input": "2025-02-09T09:41:31.215546Z",
     "iopub.status.busy": "2025-02-09T09:41:31.215214Z",
     "iopub.status.idle": "2025-02-09T09:41:31.443925Z",
     "shell.execute_reply": "2025-02-09T09:41:31.442522Z"
    },
    "papermill": {
     "duration": 0.247043,
     "end_time": "2025-02-09T09:41:31.445967",
     "exception": false,
     "start_time": "2025-02-09T09:41:31.198924",
     "status": "completed"
    },
    "tags": []
   },
   "outputs": [
    {
     "name": "stdout",
     "output_type": "stream",
     "text": [
      "Style\n",
      "Messenger    108001\n",
      "Tote          97438\n",
      "Backpack      94561\n",
      "Name: count, dtype: int64\n",
      " \n",
      "Null Values\n",
      "0\n",
      " \n",
      "-----------\n",
      " \n"
     ]
    },
    {
     "data": {
      "text/plain": [
       "<Axes: xlabel='Style'>"
      ]
     },
     "execution_count": 27,
     "metadata": {},
     "output_type": "execute_result"
    },
    {
     "data": {
      "image/png": "[encoded data removed]",
      "text/plain": [
       "<Figure size 640x480 with 1 Axes>"
      ]
     },
     "metadata": {},
     "output_type": "display_data"
    }
   ],
   "source": [
    "print(df['Style'].value_counts())\n",
    "print(\" \")\n",
    "print(\"Null Values\")\n",
    "print(df['Style'].isnull().sum())\n",
    "print(\" \")\n",
    "print(\"-----------\")\n",
    "print(\" \")\n",
    "p = df['Style'].value_counts()\n",
    "p.plot(kind=\"bar\")"
   ]
  },
  {
   "cell_type": "code",
   "execution_count": 28,
   "id": "5681bc61",
   "metadata": {
    "execution": {
     "iopub.execute_input": "2025-02-09T09:41:31.479747Z",
     "iopub.status.busy": "2025-02-09T09:41:31.479374Z",
     "iopub.status.idle": "2025-02-09T09:41:31.522784Z",
     "shell.execute_reply": "2025-02-09T09:41:31.521520Z"
    },
    "papermill": {
     "duration": 0.062948,
     "end_time": "2025-02-09T09:41:31.525137",
     "exception": false,
     "start_time": "2025-02-09T09:41:31.462189",
     "status": "completed"
    },
    "tags": []
   },
   "outputs": [
    {
     "name": "stdout",
     "output_type": "stream",
     "text": [
      "Color\n",
      "Pink     51690\n",
      "Gray     50280\n",
      "Blue     48097\n",
      "Red      47219\n",
      "Green    46386\n",
      "Black    46378\n",
      "Name: count, dtype: int64\n",
      " \n",
      "Null Values\n",
      " \n",
      "9950\n"
     ]
    }
   ],
   "source": [
    "print(df['Color'].value_counts())\n",
    "print(\" \")\n",
    "print(\"Null Values\")\n",
    "print(\" \")\n",
    "print(df['Color'].isnull().sum())"
   ]
  },
  {
   "cell_type": "code",
   "execution_count": 29,
   "id": "bf047228",
   "metadata": {
    "execution": {
     "iopub.execute_input": "2025-02-09T09:41:31.559939Z",
     "iopub.status.busy": "2025-02-09T09:41:31.559507Z",
     "iopub.status.idle": "2025-02-09T09:41:31.604712Z",
     "shell.execute_reply": "2025-02-09T09:41:31.603336Z"
    },
    "papermill": {
     "duration": 0.064999,
     "end_time": "2025-02-09T09:41:31.606829",
     "exception": false,
     "start_time": "2025-02-09T09:41:31.541830",
     "status": "completed"
    },
    "tags": []
   },
   "outputs": [],
   "source": [
    "df['Color'] = df['Color'].fillna('Black')\n",
    "test_df['Color'] = test_df['Color'].fillna('Black')"
   ]
  },
  {
   "cell_type": "code",
   "execution_count": 30,
   "id": "c6b9b688",
   "metadata": {
    "execution": {
     "iopub.execute_input": "2025-02-09T09:41:31.640217Z",
     "iopub.status.busy": "2025-02-09T09:41:31.639875Z",
     "iopub.status.idle": "2025-02-09T09:41:31.883053Z",
     "shell.execute_reply": "2025-02-09T09:41:31.881876Z"
    },
    "papermill": {
     "duration": 0.262025,
     "end_time": "2025-02-09T09:41:31.884909",
     "exception": false,
     "start_time": "2025-02-09T09:41:31.622884",
     "status": "completed"
    },
    "tags": []
   },
   "outputs": [
    {
     "name": "stdout",
     "output_type": "stream",
     "text": [
      "Color\n",
      "Black    56328\n",
      "Pink     51690\n",
      "Gray     50280\n",
      "Blue     48097\n",
      "Red      47219\n",
      "Green    46386\n",
      "Name: count, dtype: int64\n",
      " \n",
      "Null Values\n",
      "0\n",
      " \n",
      "-----------\n",
      " \n"
     ]
    },
    {
     "data": {
      "text/plain": [
       "<Axes: xlabel='Color'>"
      ]
     },
     "execution_count": 30,
     "metadata": {},
     "output_type": "execute_result"
    },
    {
     "data": {
      "image/png": "[encoded data removed]",
      "text/plain": [
       "<Figure size 640x480 with 1 Axes>"
      ]
     },
     "metadata": {},
     "output_type": "display_data"
    }
   ],
   "source": [
    "print(df['Color'].value_counts())\n",
    "print(\" \")\n",
    "print(\"Null Values\")\n",
    "print(df['Color'].isnull().sum())\n",
    "print(\" \")\n",
    "print(\"-----------\")\n",
    "print(\" \")\n",
    "p = df['Color'].value_counts()\n",
    "p.plot(kind=\"bar\")"
   ]
  },
  {
   "cell_type": "code",
   "execution_count": 31,
   "id": "b2fee6b4",
   "metadata": {
    "execution": {
     "iopub.execute_input": "2025-02-09T09:41:31.919923Z",
     "iopub.status.busy": "2025-02-09T09:41:31.919481Z",
     "iopub.status.idle": "2025-02-09T09:41:31.968504Z",
     "shell.execute_reply": "2025-02-09T09:41:31.967214Z"
    },
    "papermill": {
     "duration": 0.06893,
     "end_time": "2025-02-09T09:41:31.970526",
     "exception": false,
     "start_time": "2025-02-09T09:41:31.901596",
     "status": "completed"
    },
    "tags": []
   },
   "outputs": [
    {
     "name": "stdout",
     "output_type": "stream",
     "text": [
      "Weight Capacity (kg)\n",
      "5.000000     4286\n",
      "30.000000     185\n",
      "11.898250     123\n",
      "22.898382     116\n",
      "14.908437     101\n",
      "             ... \n",
      "6.938551        1\n",
      "8.093085        1\n",
      "22.013824       1\n",
      "13.246538       1\n",
      "6.175738        1\n",
      "Name: count, Length: 181596, dtype: int64\n",
      " \n",
      "Null Values\n",
      " \n",
      "138\n"
     ]
    }
   ],
   "source": [
    "print(df['Weight Capacity (kg)'].value_counts())\n",
    "print(\" \")\n",
    "print(\"Null Values\")\n",
    "print(\" \")\n",
    "print(df['Weight Capacity (kg)'].isnull().sum())"
   ]
  },
  {
   "cell_type": "code",
   "execution_count": 32,
   "id": "b17e55c8",
   "metadata": {
    "execution": {
     "iopub.execute_input": "2025-02-09T09:41:32.007014Z",
     "iopub.status.busy": "2025-02-09T09:41:32.006593Z",
     "iopub.status.idle": "2025-02-09T09:41:32.024787Z",
     "shell.execute_reply": "2025-02-09T09:41:32.023321Z"
    },
    "papermill": {
     "duration": 0.039121,
     "end_time": "2025-02-09T09:41:32.027010",
     "exception": false,
     "start_time": "2025-02-09T09:41:31.987889",
     "status": "completed"
    },
    "tags": []
   },
   "outputs": [],
   "source": [
    "df['Weight Capacity (kg)'] = df['Weight Capacity (kg)'].fillna(df['Weight Capacity (kg)'].median())\n",
    "test_df['Weight Capacity (kg)'] = test_df['Weight Capacity (kg)'].fillna(test_df['Weight Capacity (kg)'].median())"
   ]
  },
  {
   "cell_type": "code",
   "execution_count": 33,
   "id": "f92bec84",
   "metadata": {
    "execution": {
     "iopub.execute_input": "2025-02-09T09:41:32.062493Z",
     "iopub.status.busy": "2025-02-09T09:41:32.062097Z",
     "iopub.status.idle": "2025-02-09T09:41:32.110435Z",
     "shell.execute_reply": "2025-02-09T09:41:32.109273Z"
    },
    "papermill": {
     "duration": 0.068274,
     "end_time": "2025-02-09T09:41:32.112378",
     "exception": false,
     "start_time": "2025-02-09T09:41:32.044104",
     "status": "completed"
    },
    "tags": []
   },
   "outputs": [
    {
     "name": "stdout",
     "output_type": "stream",
     "text": [
      "Weight Capacity (kg)\n",
      "5.000000     4286\n",
      "30.000000     185\n",
      "18.068614     148\n",
      "11.898250     123\n",
      "22.898382     116\n",
      "             ... \n",
      "6.938551        1\n",
      "8.093085        1\n",
      "22.013824       1\n",
      "13.246538       1\n",
      "6.175738        1\n",
      "Name: count, Length: 181596, dtype: int64\n",
      " \n",
      "Null Values\n",
      "0\n",
      " \n",
      "-----------\n",
      " \n"
     ]
    }
   ],
   "source": [
    "print(df['Weight Capacity (kg)'].value_counts())\n",
    "print(\" \")\n",
    "print(\"Null Values\")\n",
    "print(df['Weight Capacity (kg)'].isnull().sum())\n",
    "print(\" \")\n",
    "print(\"-----------\")\n",
    "print(\" \")\n"
   ]
  },
  {
   "cell_type": "code",
   "execution_count": 34,
   "id": "381f3beb",
   "metadata": {
    "execution": {
     "iopub.execute_input": "2025-02-09T09:41:32.148364Z",
     "iopub.status.busy": "2025-02-09T09:41:32.147935Z",
     "iopub.status.idle": "2025-02-09T09:41:32.176143Z",
     "shell.execute_reply": "2025-02-09T09:41:32.174875Z"
    },
    "papermill": {
     "duration": 0.048055,
     "end_time": "2025-02-09T09:41:32.177959",
     "exception": false,
     "start_time": "2025-02-09T09:41:32.129904",
     "status": "completed"
    },
    "tags": []
   },
   "outputs": [
    {
     "name": "stdout",
     "output_type": "stream",
     "text": [
      "Price\n",
      "150.00000    5528\n",
      "15.00000      693\n",
      "23.59584       22\n",
      "17.31514       21\n",
      "62.36063       21\n",
      "             ... \n",
      "82.31121        1\n",
      "90.79389        1\n",
      "111.37389       1\n",
      "94.99611        1\n",
      "41.96325        1\n",
      "Name: count, Length: 48212, dtype: int64\n",
      " \n",
      "Null Values\n",
      " \n",
      "0\n"
     ]
    }
   ],
   "source": [
    "print(df['Price'].value_counts())\n",
    "print(\" \")\n",
    "print(\"Null Values\")\n",
    "print(\" \")\n",
    "print(df['Price'].isnull().sum())"
   ]
  },
  {
   "cell_type": "code",
   "execution_count": 35,
   "id": "ba40a622",
   "metadata": {
    "execution": {
     "iopub.execute_input": "2025-02-09T09:41:32.269417Z",
     "iopub.status.busy": "2025-02-09T09:41:32.269031Z",
     "iopub.status.idle": "2025-02-09T09:41:32.380343Z",
     "shell.execute_reply": "2025-02-09T09:41:32.379167Z"
    },
    "papermill": {
     "duration": 0.187493,
     "end_time": "2025-02-09T09:41:32.382454",
     "exception": false,
     "start_time": "2025-02-09T09:41:32.194961",
     "status": "completed"
    },
    "tags": []
   },
   "outputs": [
    {
     "data": {
      "text/plain": [
       "id                      0\n",
       "Brand                   0\n",
       "Material                0\n",
       "Size                    0\n",
       "Compartments            0\n",
       "Laptop Compartment      0\n",
       "Waterproof              0\n",
       "Style                   0\n",
       "Color                   0\n",
       "Weight Capacity (kg)    0\n",
       "Price                   0\n",
       "dtype: int64"
      ]
     },
     "execution_count": 35,
     "metadata": {},
     "output_type": "execute_result"
    }
   ],
   "source": [
    "df.isnull().sum()"
   ]
  },
  {
   "cell_type": "code",
   "execution_count": 36,
   "id": "efa68945",
   "metadata": {
    "execution": {
     "iopub.execute_input": "2025-02-09T09:41:32.417690Z",
     "iopub.status.busy": "2025-02-09T09:41:32.417294Z",
     "iopub.status.idle": "2025-02-09T09:41:32.436930Z",
     "shell.execute_reply": "2025-02-09T09:41:32.435859Z"
    },
    "papermill": {
     "duration": 0.039425,
     "end_time": "2025-02-09T09:41:32.438854",
     "exception": false,
     "start_time": "2025-02-09T09:41:32.399429",
     "status": "completed"
    },
    "tags": []
   },
   "outputs": [
    {
     "data": {
      "text/html": [
       "<div>\n",
       "<style scoped>\n",
       "    .dataframe tbody tr th:only-of-type {\n",
       "        vertical-align: middle;\n",
       "    }\n",
       "\n",
       "    .dataframe tbody tr th {\n",
       "        vertical-align: top;\n",
       "    }\n",
       "\n",
       "    .dataframe thead th {\n",
       "        text-align: right;\n",
       "    }\n",
       "</style>\n",
       "<table border=\"1\" class=\"dataframe\">\n",
       "  <thead>\n",
       "    <tr style=\"text-align: right;\">\n",
       "      <th></th>\n",
       "      <th>id</th>\n",
       "      <th>Brand</th>\n",
       "      <th>Material</th>\n",
       "      <th>Size</th>\n",
       "      <th>Compartments</th>\n",
       "      <th>Laptop Compartment</th>\n",
       "      <th>Waterproof</th>\n",
       "      <th>Style</th>\n",
       "      <th>Color</th>\n",
       "      <th>Weight Capacity (kg)</th>\n",
       "      <th>Price</th>\n",
       "    </tr>\n",
       "  </thead>\n",
       "  <tbody>\n",
       "    <tr>\n",
       "      <th>0</th>\n",
       "      <td>0</td>\n",
       "      <td>Jansport</td>\n",
       "      <td>Leather</td>\n",
       "      <td>Medium</td>\n",
       "      <td>7.0</td>\n",
       "      <td>Yes</td>\n",
       "      <td>No</td>\n",
       "      <td>Tote</td>\n",
       "      <td>Black</td>\n",
       "      <td>11.611723</td>\n",
       "      <td>112.15875</td>\n",
       "    </tr>\n",
       "    <tr>\n",
       "      <th>1</th>\n",
       "      <td>1</td>\n",
       "      <td>Jansport</td>\n",
       "      <td>Canvas</td>\n",
       "      <td>Small</td>\n",
       "      <td>10.0</td>\n",
       "      <td>Yes</td>\n",
       "      <td>Yes</td>\n",
       "      <td>Messenger</td>\n",
       "      <td>Green</td>\n",
       "      <td>27.078537</td>\n",
       "      <td>68.88056</td>\n",
       "    </tr>\n",
       "    <tr>\n",
       "      <th>2</th>\n",
       "      <td>2</td>\n",
       "      <td>Under Armour</td>\n",
       "      <td>Leather</td>\n",
       "      <td>Small</td>\n",
       "      <td>2.0</td>\n",
       "      <td>Yes</td>\n",
       "      <td>No</td>\n",
       "      <td>Messenger</td>\n",
       "      <td>Red</td>\n",
       "      <td>16.643760</td>\n",
       "      <td>39.17320</td>\n",
       "    </tr>\n",
       "    <tr>\n",
       "      <th>3</th>\n",
       "      <td>3</td>\n",
       "      <td>Nike</td>\n",
       "      <td>Nylon</td>\n",
       "      <td>Small</td>\n",
       "      <td>8.0</td>\n",
       "      <td>Yes</td>\n",
       "      <td>No</td>\n",
       "      <td>Messenger</td>\n",
       "      <td>Green</td>\n",
       "      <td>12.937220</td>\n",
       "      <td>80.60793</td>\n",
       "    </tr>\n",
       "    <tr>\n",
       "      <th>4</th>\n",
       "      <td>4</td>\n",
       "      <td>Adidas</td>\n",
       "      <td>Canvas</td>\n",
       "      <td>Medium</td>\n",
       "      <td>1.0</td>\n",
       "      <td>Yes</td>\n",
       "      <td>Yes</td>\n",
       "      <td>Messenger</td>\n",
       "      <td>Green</td>\n",
       "      <td>17.749338</td>\n",
       "      <td>86.02312</td>\n",
       "    </tr>\n",
       "    <tr>\n",
       "      <th>...</th>\n",
       "      <td>...</td>\n",
       "      <td>...</td>\n",
       "      <td>...</td>\n",
       "      <td>...</td>\n",
       "      <td>...</td>\n",
       "      <td>...</td>\n",
       "      <td>...</td>\n",
       "      <td>...</td>\n",
       "      <td>...</td>\n",
       "      <td>...</td>\n",
       "      <td>...</td>\n",
       "    </tr>\n",
       "    <tr>\n",
       "      <th>299995</th>\n",
       "      <td>299995</td>\n",
       "      <td>Adidas</td>\n",
       "      <td>Leather</td>\n",
       "      <td>Small</td>\n",
       "      <td>9.0</td>\n",
       "      <td>No</td>\n",
       "      <td>No</td>\n",
       "      <td>Tote</td>\n",
       "      <td>Blue</td>\n",
       "      <td>12.730812</td>\n",
       "      <td>129.99749</td>\n",
       "    </tr>\n",
       "    <tr>\n",
       "      <th>299996</th>\n",
       "      <td>299996</td>\n",
       "      <td>Jansport</td>\n",
       "      <td>Leather</td>\n",
       "      <td>Large</td>\n",
       "      <td>6.0</td>\n",
       "      <td>No</td>\n",
       "      <td>Yes</td>\n",
       "      <td>Tote</td>\n",
       "      <td>Blue</td>\n",
       "      <td>26.633182</td>\n",
       "      <td>19.85819</td>\n",
       "    </tr>\n",
       "    <tr>\n",
       "      <th>299997</th>\n",
       "      <td>299997</td>\n",
       "      <td>Puma</td>\n",
       "      <td>Canvas</td>\n",
       "      <td>Large</td>\n",
       "      <td>9.0</td>\n",
       "      <td>Yes</td>\n",
       "      <td>Yes</td>\n",
       "      <td>Backpack</td>\n",
       "      <td>Pink</td>\n",
       "      <td>11.898250</td>\n",
       "      <td>111.41364</td>\n",
       "    </tr>\n",
       "    <tr>\n",
       "      <th>299998</th>\n",
       "      <td>299998</td>\n",
       "      <td>Adidas</td>\n",
       "      <td>Nylon</td>\n",
       "      <td>Small</td>\n",
       "      <td>1.0</td>\n",
       "      <td>No</td>\n",
       "      <td>Yes</td>\n",
       "      <td>Tote</td>\n",
       "      <td>Pink</td>\n",
       "      <td>6.175738</td>\n",
       "      <td>115.89080</td>\n",
       "    </tr>\n",
       "    <tr>\n",
       "      <th>299999</th>\n",
       "      <td>299999</td>\n",
       "      <td>Under Armour</td>\n",
       "      <td>Canvas</td>\n",
       "      <td>Small</td>\n",
       "      <td>2.0</td>\n",
       "      <td>No</td>\n",
       "      <td>Yes</td>\n",
       "      <td>Backpack</td>\n",
       "      <td>Black</td>\n",
       "      <td>18.568865</td>\n",
       "      <td>26.72762</td>\n",
       "    </tr>\n",
       "  </tbody>\n",
       "</table>\n",
       "<p>300000 rows × 11 columns</p>\n",
       "</div>"
      ],
      "text/plain": [
       "            id         Brand Material    Size  Compartments  \\\n",
       "0            0      Jansport  Leather  Medium           7.0   \n",
       "1            1      Jansport   Canvas   Small          10.0   \n",
       "2            2  Under Armour  Leather   Small           2.0   \n",
       "3            3          Nike    Nylon   Small           8.0   \n",
       "4            4        Adidas   Canvas  Medium           1.0   \n",
       "...        ...           ...      ...     ...           ...   \n",
       "299995  299995        Adidas  Leather   Small           9.0   \n",
       "299996  299996      Jansport  Leather   Large           6.0   \n",
       "299997  299997          Puma   Canvas   Large           9.0   \n",
       "299998  299998        Adidas    Nylon   Small           1.0   \n",
       "299999  299999  Under Armour   Canvas   Small           2.0   \n",
       "\n",
       "       Laptop Compartment Waterproof      Style  Color  Weight Capacity (kg)  \\\n",
       "0                     Yes         No       Tote  Black             11.611723   \n",
       "1                     Yes        Yes  Messenger  Green             27.078537   \n",
       "2                     Yes         No  Messenger    Red             16.643760   \n",
       "3                     Yes         No  Messenger  Green             12.937220   \n",
       "4                     Yes        Yes  Messenger  Green             17.749338   \n",
       "...                   ...        ...        ...    ...                   ...   \n",
       "299995                 No         No       Tote   Blue             12.730812   \n",
       "299996                 No        Yes       Tote   Blue             26.633182   \n",
       "299997                Yes        Yes   Backpack   Pink             11.898250   \n",
       "299998                 No        Yes       Tote   Pink              6.175738   \n",
       "299999                 No        Yes   Backpack  Black             18.568865   \n",
       "\n",
       "            Price  \n",
       "0       112.15875  \n",
       "1        68.88056  \n",
       "2        39.17320  \n",
       "3        80.60793  \n",
       "4        86.02312  \n",
       "...           ...  \n",
       "299995  129.99749  \n",
       "299996   19.85819  \n",
       "299997  111.41364  \n",
       "299998  115.89080  \n",
       "299999   26.72762  \n",
       "\n",
       "[300000 rows x 11 columns]"
      ]
     },
     "execution_count": 36,
     "metadata": {},
     "output_type": "execute_result"
    }
   ],
   "source": [
    "df"
   ]
  },
  {
   "cell_type": "code",
   "execution_count": 37,
   "id": "7d695c83",
   "metadata": {
    "execution": {
     "iopub.execute_input": "2025-02-09T09:41:32.474735Z",
     "iopub.status.busy": "2025-02-09T09:41:32.474362Z",
     "iopub.status.idle": "2025-02-09T09:41:32.586318Z",
     "shell.execute_reply": "2025-02-09T09:41:32.585171Z"
    },
    "papermill": {
     "duration": 0.131686,
     "end_time": "2025-02-09T09:41:32.588150",
     "exception": false,
     "start_time": "2025-02-09T09:41:32.456464",
     "status": "completed"
    },
    "tags": []
   },
   "outputs": [
    {
     "data": {
      "text/plain": [
       "id                      0\n",
       "Brand                   0\n",
       "Material                0\n",
       "Size                    0\n",
       "Compartments            0\n",
       "Laptop Compartment      0\n",
       "Waterproof              0\n",
       "Style                   0\n",
       "Color                   0\n",
       "Weight Capacity (kg)    0\n",
       "Price                   0\n",
       "dtype: int64"
      ]
     },
     "execution_count": 37,
     "metadata": {},
     "output_type": "execute_result"
    }
   ],
   "source": [
    "df.isnull().sum()"
   ]
  },
  {
   "cell_type": "markdown",
   "id": "c199adb5",
   "metadata": {
    "papermill": {
     "duration": 0.017547,
     "end_time": "2025-02-09T09:41:32.623346",
     "exception": false,
     "start_time": "2025-02-09T09:41:32.605799",
     "status": "completed"
    },
    "tags": []
   },
   "source": [
    "EDA Completed"
   ]
  },
  {
   "cell_type": "code",
   "execution_count": 38,
   "id": "cde2be25",
   "metadata": {
    "execution": {
     "iopub.execute_input": "2025-02-09T09:41:32.659038Z",
     "iopub.status.busy": "2025-02-09T09:41:32.658661Z",
     "iopub.status.idle": "2025-02-09T09:41:32.734949Z",
     "shell.execute_reply": "2025-02-09T09:41:32.733840Z"
    },
    "papermill": {
     "duration": 0.096372,
     "end_time": "2025-02-09T09:41:32.736926",
     "exception": false,
     "start_time": "2025-02-09T09:41:32.640554",
     "status": "completed"
    },
    "tags": []
   },
   "outputs": [
    {
     "data": {
      "text/plain": [
       "id                      0\n",
       "Brand                   0\n",
       "Material                0\n",
       "Size                    0\n",
       "Compartments            0\n",
       "Laptop Compartment      0\n",
       "Waterproof              0\n",
       "Style                   0\n",
       "Color                   0\n",
       "Weight Capacity (kg)    0\n",
       "dtype: int64"
      ]
     },
     "execution_count": 38,
     "metadata": {},
     "output_type": "execute_result"
    }
   ],
   "source": [
    "test_df.isnull().sum()"
   ]
  },
  {
   "cell_type": "markdown",
   "id": "06ff687c",
   "metadata": {
    "papermill": {
     "duration": 0.017726,
     "end_time": "2025-02-09T09:41:32.772906",
     "exception": false,
     "start_time": "2025-02-09T09:41:32.755180",
     "status": "completed"
    },
    "tags": []
   },
   "source": [
    "Preprocessing\n"
   ]
  },
  {
   "cell_type": "code",
   "execution_count": 39,
   "id": "ba4ab9b2",
   "metadata": {
    "execution": {
     "iopub.execute_input": "2025-02-09T09:41:32.812213Z",
     "iopub.status.busy": "2025-02-09T09:41:32.811784Z",
     "iopub.status.idle": "2025-02-09T09:41:32.818937Z",
     "shell.execute_reply": "2025-02-09T09:41:32.817808Z"
    },
    "papermill": {
     "duration": 0.028356,
     "end_time": "2025-02-09T09:41:32.820638",
     "exception": false,
     "start_time": "2025-02-09T09:41:32.792282",
     "status": "completed"
    },
    "tags": []
   },
   "outputs": [
    {
     "data": {
      "text/plain": [
       "24423332.0491"
      ]
     },
     "execution_count": 39,
     "metadata": {},
     "output_type": "execute_result"
    }
   ],
   "source": [
    "df['Price'].sum()"
   ]
  },
  {
   "cell_type": "code",
   "execution_count": 40,
   "id": "a4c1fa80",
   "metadata": {
    "execution": {
     "iopub.execute_input": "2025-02-09T09:41:32.858422Z",
     "iopub.status.busy": "2025-02-09T09:41:32.857995Z",
     "iopub.status.idle": "2025-02-09T09:41:34.467048Z",
     "shell.execute_reply": "2025-02-09T09:41:34.465656Z"
    },
    "papermill": {
     "duration": 1.629908,
     "end_time": "2025-02-09T09:41:34.469237",
     "exception": false,
     "start_time": "2025-02-09T09:41:32.839329",
     "status": "completed"
    },
    "tags": []
   },
   "outputs": [],
   "source": [
    "from sklearn import linear_model\n",
    "import matplotlib.pyplot as plt\n",
    "from sklearn.model_selection import train_test_split\n",
    "from sklearn.metrics import mean_squared_error\n",
    "from sklearn.preprocessing import StandardScaler, OneHotEncoder"
   ]
  },
  {
   "cell_type": "code",
   "execution_count": 41,
   "id": "83c25648",
   "metadata": {
    "execution": {
     "iopub.execute_input": "2025-02-09T09:41:34.507549Z",
     "iopub.status.busy": "2025-02-09T09:41:34.506915Z",
     "iopub.status.idle": "2025-02-09T09:41:34.557480Z",
     "shell.execute_reply": "2025-02-09T09:41:34.555891Z"
    },
    "papermill": {
     "duration": 0.072197,
     "end_time": "2025-02-09T09:41:34.559565",
     "exception": false,
     "start_time": "2025-02-09T09:41:34.487368",
     "status": "completed"
    },
    "tags": []
   },
   "outputs": [],
   "source": [
    "X = df[['Brand','Material','Size','Compartments','Laptop Compartment','Waterproof','Style','Color','Weight Capacity (kg)']]\n",
    "Y = df['Price']\n",
    "P = test_df[['Brand','Material','Size','Compartments','Laptop Compartment','Waterproof','Style','Color','Weight Capacity (kg)']]"
   ]
  },
  {
   "cell_type": "code",
   "execution_count": 42,
   "id": "3b718d30",
   "metadata": {
    "execution": {
     "iopub.execute_input": "2025-02-09T09:41:34.596686Z",
     "iopub.status.busy": "2025-02-09T09:41:34.596305Z",
     "iopub.status.idle": "2025-02-09T09:41:34.601332Z",
     "shell.execute_reply": "2025-02-09T09:41:34.599994Z"
    },
    "papermill": {
     "duration": 0.026083,
     "end_time": "2025-02-09T09:41:34.603291",
     "exception": false,
     "start_time": "2025-02-09T09:41:34.577208",
     "status": "completed"
    },
    "tags": []
   },
   "outputs": [],
   "source": [
    "categorical_features = ['Brand','Material','Size','Laptop Compartment','Waterproof','Style','Color']\n",
    "encoder = OneHotEncoder(sparse=False, drop='first')"
   ]
  },
  {
   "cell_type": "code",
   "execution_count": 43,
   "id": "76d6c1d2",
   "metadata": {
    "execution": {
     "iopub.execute_input": "2025-02-09T09:41:34.641052Z",
     "iopub.status.busy": "2025-02-09T09:41:34.640483Z",
     "iopub.status.idle": "2025-02-09T09:41:35.523331Z",
     "shell.execute_reply": "2025-02-09T09:41:35.522005Z"
    },
    "papermill": {
     "duration": 0.904851,
     "end_time": "2025-02-09T09:41:35.525947",
     "exception": false,
     "start_time": "2025-02-09T09:41:34.621096",
     "status": "completed"
    },
    "tags": []
   },
   "outputs": [
    {
     "name": "stderr",
     "output_type": "stream",
     "text": [
      "/usr/local/lib/python3.10/dist-packages/sklearn/preprocessing/_encoders.py:868: FutureWarning: `sparse` was renamed to `sparse_output` in version 1.2 and will be removed in 1.4. `sparse_output` is ignored unless you leave `sparse` to its default value.\n",
      "  warnings.warn(\n"
     ]
    }
   ],
   "source": [
    "X_encoded = encoder.fit_transform(X[categorical_features])\n",
    "encoded_feature_names = encoder.get_feature_names_out(categorical_features)"
   ]
  },
  {
   "cell_type": "code",
   "execution_count": 44,
   "id": "3d456bbc",
   "metadata": {
    "execution": {
     "iopub.execute_input": "2025-02-09T09:41:35.564505Z",
     "iopub.status.busy": "2025-02-09T09:41:35.564148Z",
     "iopub.status.idle": "2025-02-09T09:41:36.129234Z",
     "shell.execute_reply": "2025-02-09T09:41:36.128104Z"
    },
    "papermill": {
     "duration": 0.586693,
     "end_time": "2025-02-09T09:41:36.131200",
     "exception": false,
     "start_time": "2025-02-09T09:41:35.544507",
     "status": "completed"
    },
    "tags": []
   },
   "outputs": [
    {
     "name": "stderr",
     "output_type": "stream",
     "text": [
      "/usr/local/lib/python3.10/dist-packages/sklearn/preprocessing/_encoders.py:868: FutureWarning: `sparse` was renamed to `sparse_output` in version 1.2 and will be removed in 1.4. `sparse_output` is ignored unless you leave `sparse` to its default value.\n",
      "  warnings.warn(\n"
     ]
    }
   ],
   "source": [
    "P_encoded = encoder.fit_transform(P[categorical_features])\n",
    "encoded_feature_names = encoder.get_feature_names_out(categorical_features)"
   ]
  },
  {
   "cell_type": "code",
   "execution_count": 45,
   "id": "2db69355",
   "metadata": {
    "execution": {
     "iopub.execute_input": "2025-02-09T09:41:36.169258Z",
     "iopub.status.busy": "2025-02-09T09:41:36.168907Z",
     "iopub.status.idle": "2025-02-09T09:41:36.173900Z",
     "shell.execute_reply": "2025-02-09T09:41:36.172718Z"
    },
    "papermill": {
     "duration": 0.026168,
     "end_time": "2025-02-09T09:41:36.175740",
     "exception": false,
     "start_time": "2025-02-09T09:41:36.149572",
     "status": "completed"
    },
    "tags": []
   },
   "outputs": [],
   "source": [
    "# Convert to DataFrame\n",
    "X_encoded_df = pd.DataFrame(X_encoded, columns=encoded_feature_names)"
   ]
  },
  {
   "cell_type": "code",
   "execution_count": 46,
   "id": "1072d19a",
   "metadata": {
    "execution": {
     "iopub.execute_input": "2025-02-09T09:41:36.213320Z",
     "iopub.status.busy": "2025-02-09T09:41:36.212938Z",
     "iopub.status.idle": "2025-02-09T09:41:36.218009Z",
     "shell.execute_reply": "2025-02-09T09:41:36.216755Z"
    },
    "papermill": {
     "duration": 0.026333,
     "end_time": "2025-02-09T09:41:36.219975",
     "exception": false,
     "start_time": "2025-02-09T09:41:36.193642",
     "status": "completed"
    },
    "tags": []
   },
   "outputs": [],
   "source": [
    "# Convert to DataFrame\n",
    "P_encoded_df = pd.DataFrame(P_encoded, columns=encoded_feature_names)"
   ]
  },
  {
   "cell_type": "code",
   "execution_count": 47,
   "id": "3842934f",
   "metadata": {
    "execution": {
     "iopub.execute_input": "2025-02-09T09:41:36.258400Z",
     "iopub.status.busy": "2025-02-09T09:41:36.257985Z",
     "iopub.status.idle": "2025-02-09T09:41:36.341800Z",
     "shell.execute_reply": "2025-02-09T09:41:36.340423Z"
    },
    "papermill": {
     "duration": 0.105737,
     "end_time": "2025-02-09T09:41:36.343878",
     "exception": false,
     "start_time": "2025-02-09T09:41:36.238141",
     "status": "completed"
    },
    "tags": []
   },
   "outputs": [],
   "source": [
    "# Drop original categorical columns and add encoded columns\n",
    "X = X.drop(columns=categorical_features)\n",
    "X = pd.concat([X, X_encoded_df], axis=1)"
   ]
  },
  {
   "cell_type": "code",
   "execution_count": 48,
   "id": "0b2c8d2a",
   "metadata": {
    "execution": {
     "iopub.execute_input": "2025-02-09T09:41:36.381320Z",
     "iopub.status.busy": "2025-02-09T09:41:36.380925Z",
     "iopub.status.idle": "2025-02-09T09:41:36.437028Z",
     "shell.execute_reply": "2025-02-09T09:41:36.435738Z"
    },
    "papermill": {
     "duration": 0.077192,
     "end_time": "2025-02-09T09:41:36.439155",
     "exception": false,
     "start_time": "2025-02-09T09:41:36.361963",
     "status": "completed"
    },
    "tags": []
   },
   "outputs": [],
   "source": [
    "# Drop original categorical columns and add encoded columns\n",
    "P = P.drop(columns=categorical_features)\n",
    "P = pd.concat([P, P_encoded_df], axis=1)"
   ]
  },
  {
   "cell_type": "code",
   "execution_count": 49,
   "id": "4e755118",
   "metadata": {
    "execution": {
     "iopub.execute_input": "2025-02-09T09:41:36.477282Z",
     "iopub.status.busy": "2025-02-09T09:41:36.476812Z",
     "iopub.status.idle": "2025-02-09T09:41:36.510980Z",
     "shell.execute_reply": "2025-02-09T09:41:36.509923Z"
    },
    "papermill": {
     "duration": 0.055784,
     "end_time": "2025-02-09T09:41:36.513380",
     "exception": false,
     "start_time": "2025-02-09T09:41:36.457596",
     "status": "completed"
    },
    "tags": []
   },
   "outputs": [],
   "source": [
    "scaler = StandardScaler()\n",
    "X[['Compartments','Weight Capacity (kg)']] = scaler.fit_transform(\n",
    "    X[['Compartments','Weight Capacity (kg)']]\n",
    ")"
   ]
  },
  {
   "cell_type": "code",
   "execution_count": 50,
   "id": "725f242b",
   "metadata": {
    "execution": {
     "iopub.execute_input": "2025-02-09T09:41:36.551206Z",
     "iopub.status.busy": "2025-02-09T09:41:36.550847Z",
     "iopub.status.idle": "2025-02-09T09:41:36.567565Z",
     "shell.execute_reply": "2025-02-09T09:41:36.566451Z"
    },
    "papermill": {
     "duration": 0.037773,
     "end_time": "2025-02-09T09:41:36.569606",
     "exception": false,
     "start_time": "2025-02-09T09:41:36.531833",
     "status": "completed"
    },
    "tags": []
   },
   "outputs": [],
   "source": [
    "scaler = StandardScaler()\n",
    "P[['Compartments','Weight Capacity (kg)']] = scaler.fit_transform(\n",
    "    P[['Compartments','Weight Capacity (kg)']]\n",
    ")"
   ]
  },
  {
   "cell_type": "code",
   "execution_count": 51,
   "id": "52d4ba22",
   "metadata": {
    "execution": {
     "iopub.execute_input": "2025-02-09T09:41:36.607857Z",
     "iopub.status.busy": "2025-02-09T09:41:36.607414Z",
     "iopub.status.idle": "2025-02-09T09:41:36.687047Z",
     "shell.execute_reply": "2025-02-09T09:41:36.685797Z"
    },
    "papermill": {
     "duration": 0.101216,
     "end_time": "2025-02-09T09:41:36.689211",
     "exception": false,
     "start_time": "2025-02-09T09:41:36.587995",
     "status": "completed"
    },
    "tags": []
   },
   "outputs": [],
   "source": [
    "X_train, X_test, Y_train, Y_test = train_test_split(X, Y, test_size=0.2, random_state=42)"
   ]
  },
  {
   "cell_type": "code",
   "execution_count": 52,
   "id": "3cd79889",
   "metadata": {
    "execution": {
     "iopub.execute_input": "2025-02-09T09:41:36.726757Z",
     "iopub.status.busy": "2025-02-09T09:41:36.726331Z",
     "iopub.status.idle": "2025-02-09T09:41:37.108981Z",
     "shell.execute_reply": "2025-02-09T09:41:37.107922Z"
    },
    "papermill": {
     "duration": 0.403792,
     "end_time": "2025-02-09T09:41:37.111122",
     "exception": false,
     "start_time": "2025-02-09T09:41:36.707330",
     "status": "completed"
    },
    "tags": []
   },
   "outputs": [
    {
     "data": {
      "text/html": [
       "<style>#sk-container-id-1 {color: black;background-color: white;}#sk-container-id-1 pre{padding: 0;}#sk-container-id-1 div.sk-toggleable {background-color: white;}#sk-container-id-1 label.sk-toggleable__label {cursor: pointer;display: block;width: 100%;margin-bottom: 0;padding: 0.3em;box-sizing: border-box;text-align: center;}#sk-container-id-1 label.sk-toggleable__label-arrow:before {content: \"▸\";float: left;margin-right: 0.25em;color: #696969;}#sk-container-id-1 label.sk-toggleable__label-arrow:hover:before {color: black;}#sk-container-id-1 div.sk-estimator:hover label.sk-toggleable__label-arrow:before {color: black;}#sk-container-id-1 div.sk-toggleable__content {max-height: 0;max-width: 0;overflow: hidden;text-align: left;background-color: #f0f8ff;}#sk-container-id-1 div.sk-toggleable__content pre {margin: 0.2em;color: black;border-radius: 0.25em;background-color: #f0f8ff;}#sk-container-id-1 input.sk-toggleable__control:checked~div.sk-toggleable__content {max-height: 200px;max-width: 100%;overflow: auto;}#sk-container-id-1 input.sk-toggleable__control:checked~label.sk-toggleable__label-arrow:before {content: \"▾\";}#sk-container-id-1 div.sk-estimator input.sk-toggleable__control:checked~label.sk-toggleable__label {background-color: #d4ebff;}#sk-container-id-1 div.sk-label input.sk-toggleable__control:checked~label.sk-toggleable__label {background-color: #d4ebff;}#sk-container-id-1 input.sk-hidden--visually {border: 0;clip: rect(1px 1px 1px 1px);clip: rect(1px, 1px, 1px, 1px);height: 1px;margin: -1px;overflow: hidden;padding: 0;position: absolute;width: 1px;}#sk-container-id-1 div.sk-estimator {font-family: monospace;background-color: #f0f8ff;border: 1px dotted black;border-radius: 0.25em;box-sizing: border-box;margin-bottom: 0.5em;}#sk-container-id-1 div.sk-estimator:hover {background-color: #d4ebff;}#sk-container-id-1 div.sk-parallel-item::after {content: \"\";width: 100%;border-bottom: 1px solid gray;flex-grow: 1;}#sk-container-id-1 div.sk-label:hover label.sk-toggleable__label {background-color: #d4ebff;}#sk-container-id-1 div.sk-serial::before {content: \"\";position: absolute;border-left: 1px solid gray;box-sizing: border-box;top: 0;bottom: 0;left: 50%;z-index: 0;}#sk-container-id-1 div.sk-serial {display: flex;flex-direction: column;align-items: center;background-color: white;padding-right: 0.2em;padding-left: 0.2em;position: relative;}#sk-container-id-1 div.sk-item {position: relative;z-index: 1;}#sk-container-id-1 div.sk-parallel {display: flex;align-items: stretch;justify-content: center;background-color: white;position: relative;}#sk-container-id-1 div.sk-item::before, #sk-container-id-1 div.sk-parallel-item::before {content: \"\";position: absolute;border-left: 1px solid gray;box-sizing: border-box;top: 0;bottom: 0;left: 50%;z-index: -1;}#sk-container-id-1 div.sk-parallel-item {display: flex;flex-direction: column;z-index: 1;position: relative;background-color: white;}#sk-container-id-1 div.sk-parallel-item:first-child::after {align-self: flex-end;width: 50%;}#sk-container-id-1 div.sk-parallel-item:last-child::after {align-self: flex-start;width: 50%;}#sk-container-id-1 div.sk-parallel-item:only-child::after {width: 0;}#sk-container-id-1 div.sk-dashed-wrapped {border: 1px dashed gray;margin: 0 0.4em 0.5em 0.4em;box-sizing: border-box;padding-bottom: 0.4em;background-color: white;}#sk-container-id-1 div.sk-label label {font-family: monospace;font-weight: bold;display: inline-block;line-height: 1.2em;}#sk-container-id-1 div.sk-label-container {text-align: center;}#sk-container-id-1 div.sk-container {/* jupyter's `normalize.less` sets `[hidden] { display: none; }` but bootstrap.min.css set `[hidden] { display: none !important; }` so we also need the `!important` here to be able to override the default hidden behavior on the sphinx rendered scikit-learn.org. See: https://github.com/scikit-learn/scikit-learn/issues/21755 */display: inline-block !important;position: relative;}#sk-container-id-1 div.sk-text-repr-fallback {display: none;}</style><div id=\"sk-container-id-1\" class=\"sk-top-container\"><div class=\"sk-text-repr-fallback\"><pre>LinearRegression()</pre><b>In a Jupyter environment, please rerun this cell to show the HTML representation or trust the notebook. <br />On GitHub, the HTML representation is unable to render, please try loading this page with nbviewer.org.</b></div><div class=\"sk-container\" hidden><div class=\"sk-item\"><div class=\"sk-estimator sk-toggleable\"><input class=\"sk-toggleable__control sk-hidden--visually\" id=\"sk-estimator-id-1\" type=\"checkbox\" checked><label for=\"sk-estimator-id-1\" class=\"sk-toggleable__label sk-toggleable__label-arrow\">LinearRegression</label><div class=\"sk-toggleable__content\"><pre>LinearRegression()</pre></div></div></div></div></div>"
      ],
      "text/plain": [
       "LinearRegression()"
      ]
     },
     "execution_count": 52,
     "metadata": {},
     "output_type": "execute_result"
    }
   ],
   "source": [
    "model = linear_model.LinearRegression()\n",
    "model.fit(X_train, Y_train)"
   ]
  },
  {
   "cell_type": "code",
   "execution_count": 53,
   "id": "54e58974",
   "metadata": {
    "execution": {
     "iopub.execute_input": "2025-02-09T09:41:37.150424Z",
     "iopub.status.busy": "2025-02-09T09:41:37.149924Z",
     "iopub.status.idle": "2025-02-09T09:41:37.182662Z",
     "shell.execute_reply": "2025-02-09T09:41:37.181595Z"
    },
    "papermill": {
     "duration": 0.054888,
     "end_time": "2025-02-09T09:41:37.185025",
     "exception": false,
     "start_time": "2025-02-09T09:41:37.130137",
     "status": "completed"
    },
    "tags": []
   },
   "outputs": [],
   "source": [
    "train_score = model.score(X_train, Y_train)"
   ]
  },
  {
   "cell_type": "code",
   "execution_count": 54,
   "id": "deaf79df",
   "metadata": {
    "execution": {
     "iopub.execute_input": "2025-02-09T09:41:37.224884Z",
     "iopub.status.busy": "2025-02-09T09:41:37.224467Z",
     "iopub.status.idle": "2025-02-09T09:41:37.242662Z",
     "shell.execute_reply": "2025-02-09T09:41:37.241507Z"
    },
    "papermill": {
     "duration": 0.040313,
     "end_time": "2025-02-09T09:41:37.244324",
     "exception": false,
     "start_time": "2025-02-09T09:41:37.204011",
     "status": "completed"
    },
    "tags": []
   },
   "outputs": [
    {
     "data": {
      "text/html": [
       "<div>\n",
       "<style scoped>\n",
       "    .dataframe tbody tr th:only-of-type {\n",
       "        vertical-align: middle;\n",
       "    }\n",
       "\n",
       "    .dataframe tbody tr th {\n",
       "        vertical-align: top;\n",
       "    }\n",
       "\n",
       "    .dataframe thead th {\n",
       "        text-align: right;\n",
       "    }\n",
       "</style>\n",
       "<table border=\"1\" class=\"dataframe\">\n",
       "  <thead>\n",
       "    <tr style=\"text-align: right;\">\n",
       "      <th></th>\n",
       "      <th>id</th>\n",
       "      <th>Brand</th>\n",
       "      <th>Material</th>\n",
       "      <th>Size</th>\n",
       "      <th>Compartments</th>\n",
       "      <th>Laptop Compartment</th>\n",
       "      <th>Waterproof</th>\n",
       "      <th>Style</th>\n",
       "      <th>Color</th>\n",
       "      <th>Weight Capacity (kg)</th>\n",
       "      <th>Price</th>\n",
       "    </tr>\n",
       "  </thead>\n",
       "  <tbody>\n",
       "    <tr>\n",
       "      <th>0</th>\n",
       "      <td>0</td>\n",
       "      <td>Jansport</td>\n",
       "      <td>Leather</td>\n",
       "      <td>Medium</td>\n",
       "      <td>7.0</td>\n",
       "      <td>Yes</td>\n",
       "      <td>No</td>\n",
       "      <td>Tote</td>\n",
       "      <td>Black</td>\n",
       "      <td>11.611723</td>\n",
       "      <td>112.15875</td>\n",
       "    </tr>\n",
       "    <tr>\n",
       "      <th>1</th>\n",
       "      <td>1</td>\n",
       "      <td>Jansport</td>\n",
       "      <td>Canvas</td>\n",
       "      <td>Small</td>\n",
       "      <td>10.0</td>\n",
       "      <td>Yes</td>\n",
       "      <td>Yes</td>\n",
       "      <td>Messenger</td>\n",
       "      <td>Green</td>\n",
       "      <td>27.078537</td>\n",
       "      <td>68.88056</td>\n",
       "    </tr>\n",
       "    <tr>\n",
       "      <th>2</th>\n",
       "      <td>2</td>\n",
       "      <td>Under Armour</td>\n",
       "      <td>Leather</td>\n",
       "      <td>Small</td>\n",
       "      <td>2.0</td>\n",
       "      <td>Yes</td>\n",
       "      <td>No</td>\n",
       "      <td>Messenger</td>\n",
       "      <td>Red</td>\n",
       "      <td>16.643760</td>\n",
       "      <td>39.17320</td>\n",
       "    </tr>\n",
       "    <tr>\n",
       "      <th>3</th>\n",
       "      <td>3</td>\n",
       "      <td>Nike</td>\n",
       "      <td>Nylon</td>\n",
       "      <td>Small</td>\n",
       "      <td>8.0</td>\n",
       "      <td>Yes</td>\n",
       "      <td>No</td>\n",
       "      <td>Messenger</td>\n",
       "      <td>Green</td>\n",
       "      <td>12.937220</td>\n",
       "      <td>80.60793</td>\n",
       "    </tr>\n",
       "    <tr>\n",
       "      <th>4</th>\n",
       "      <td>4</td>\n",
       "      <td>Adidas</td>\n",
       "      <td>Canvas</td>\n",
       "      <td>Medium</td>\n",
       "      <td>1.0</td>\n",
       "      <td>Yes</td>\n",
       "      <td>Yes</td>\n",
       "      <td>Messenger</td>\n",
       "      <td>Green</td>\n",
       "      <td>17.749338</td>\n",
       "      <td>86.02312</td>\n",
       "    </tr>\n",
       "    <tr>\n",
       "      <th>...</th>\n",
       "      <td>...</td>\n",
       "      <td>...</td>\n",
       "      <td>...</td>\n",
       "      <td>...</td>\n",
       "      <td>...</td>\n",
       "      <td>...</td>\n",
       "      <td>...</td>\n",
       "      <td>...</td>\n",
       "      <td>...</td>\n",
       "      <td>...</td>\n",
       "      <td>...</td>\n",
       "    </tr>\n",
       "    <tr>\n",
       "      <th>299995</th>\n",
       "      <td>299995</td>\n",
       "      <td>Adidas</td>\n",
       "      <td>Leather</td>\n",
       "      <td>Small</td>\n",
       "      <td>9.0</td>\n",
       "      <td>No</td>\n",
       "      <td>No</td>\n",
       "      <td>Tote</td>\n",
       "      <td>Blue</td>\n",
       "      <td>12.730812</td>\n",
       "      <td>129.99749</td>\n",
       "    </tr>\n",
       "    <tr>\n",
       "      <th>299996</th>\n",
       "      <td>299996</td>\n",
       "      <td>Jansport</td>\n",
       "      <td>Leather</td>\n",
       "      <td>Large</td>\n",
       "      <td>6.0</td>\n",
       "      <td>No</td>\n",
       "      <td>Yes</td>\n",
       "      <td>Tote</td>\n",
       "      <td>Blue</td>\n",
       "      <td>26.633182</td>\n",
       "      <td>19.85819</td>\n",
       "    </tr>\n",
       "    <tr>\n",
       "      <th>299997</th>\n",
       "      <td>299997</td>\n",
       "      <td>Puma</td>\n",
       "      <td>Canvas</td>\n",
       "      <td>Large</td>\n",
       "      <td>9.0</td>\n",
       "      <td>Yes</td>\n",
       "      <td>Yes</td>\n",
       "      <td>Backpack</td>\n",
       "      <td>Pink</td>\n",
       "      <td>11.898250</td>\n",
       "      <td>111.41364</td>\n",
       "    </tr>\n",
       "    <tr>\n",
       "      <th>299998</th>\n",
       "      <td>299998</td>\n",
       "      <td>Adidas</td>\n",
       "      <td>Nylon</td>\n",
       "      <td>Small</td>\n",
       "      <td>1.0</td>\n",
       "      <td>No</td>\n",
       "      <td>Yes</td>\n",
       "      <td>Tote</td>\n",
       "      <td>Pink</td>\n",
       "      <td>6.175738</td>\n",
       "      <td>115.89080</td>\n",
       "    </tr>\n",
       "    <tr>\n",
       "      <th>299999</th>\n",
       "      <td>299999</td>\n",
       "      <td>Under Armour</td>\n",
       "      <td>Canvas</td>\n",
       "      <td>Small</td>\n",
       "      <td>2.0</td>\n",
       "      <td>No</td>\n",
       "      <td>Yes</td>\n",
       "      <td>Backpack</td>\n",
       "      <td>Black</td>\n",
       "      <td>18.568865</td>\n",
       "      <td>26.72762</td>\n",
       "    </tr>\n",
       "  </tbody>\n",
       "</table>\n",
       "<p>300000 rows × 11 columns</p>\n",
       "</div>"
      ],
      "text/plain": [
       "            id         Brand Material    Size  Compartments  \\\n",
       "0            0      Jansport  Leather  Medium           7.0   \n",
       "1            1      Jansport   Canvas   Small          10.0   \n",
       "2            2  Under Armour  Leather   Small           2.0   \n",
       "3            3          Nike    Nylon   Small           8.0   \n",
       "4            4        Adidas   Canvas  Medium           1.0   \n",
       "...        ...           ...      ...     ...           ...   \n",
       "299995  299995        Adidas  Leather   Small           9.0   \n",
       "299996  299996      Jansport  Leather   Large           6.0   \n",
       "299997  299997          Puma   Canvas   Large           9.0   \n",
       "299998  299998        Adidas    Nylon   Small           1.0   \n",
       "299999  299999  Under Armour   Canvas   Small           2.0   \n",
       "\n",
       "       Laptop Compartment Waterproof      Style  Color  Weight Capacity (kg)  \\\n",
       "0                     Yes         No       Tote  Black             11.611723   \n",
       "1                     Yes        Yes  Messenger  Green             27.078537   \n",
       "2                     Yes         No  Messenger    Red             16.643760   \n",
       "3                     Yes         No  Messenger  Green             12.937220   \n",
       "4                     Yes        Yes  Messenger  Green             17.749338   \n",
       "...                   ...        ...        ...    ...                   ...   \n",
       "299995                 No         No       Tote   Blue             12.730812   \n",
       "299996                 No        Yes       Tote   Blue             26.633182   \n",
       "299997                Yes        Yes   Backpack   Pink             11.898250   \n",
       "299998                 No        Yes       Tote   Pink              6.175738   \n",
       "299999                 No        Yes   Backpack  Black             18.568865   \n",
       "\n",
       "            Price  \n",
       "0       112.15875  \n",
       "1        68.88056  \n",
       "2        39.17320  \n",
       "3        80.60793  \n",
       "4        86.02312  \n",
       "...           ...  \n",
       "299995  129.99749  \n",
       "299996   19.85819  \n",
       "299997  111.41364  \n",
       "299998  115.89080  \n",
       "299999   26.72762  \n",
       "\n",
       "[300000 rows x 11 columns]"
      ]
     },
     "execution_count": 54,
     "metadata": {},
     "output_type": "execute_result"
    }
   ],
   "source": [
    "df"
   ]
  },
  {
   "cell_type": "code",
   "execution_count": 55,
   "id": "52b55a6c",
   "metadata": {
    "execution": {
     "iopub.execute_input": "2025-02-09T09:41:37.283143Z",
     "iopub.status.busy": "2025-02-09T09:41:37.282775Z",
     "iopub.status.idle": "2025-02-09T09:41:37.314416Z",
     "shell.execute_reply": "2025-02-09T09:41:37.313166Z"
    },
    "papermill": {
     "duration": 0.053339,
     "end_time": "2025-02-09T09:41:37.316353",
     "exception": false,
     "start_time": "2025-02-09T09:41:37.263014",
     "status": "completed"
    },
    "tags": []
   },
   "outputs": [
    {
     "name": "stdout",
     "output_type": "stream",
     "text": [
      "0.0010451898329554288\n"
     ]
    }
   ],
   "source": [
    "train_score = model.score(X_train, Y_train)\n",
    "print(train_score)"
   ]
  },
  {
   "cell_type": "code",
   "execution_count": 56,
   "id": "47b2e863",
   "metadata": {
    "execution": {
     "iopub.execute_input": "2025-02-09T09:41:37.355542Z",
     "iopub.status.busy": "2025-02-09T09:41:37.355190Z",
     "iopub.status.idle": "2025-02-09T09:41:37.431780Z",
     "shell.execute_reply": "2025-02-09T09:41:37.430655Z"
    },
    "papermill": {
     "duration": 0.098441,
     "end_time": "2025-02-09T09:41:37.433576",
     "exception": false,
     "start_time": "2025-02-09T09:41:37.335135",
     "status": "completed"
    },
    "tags": []
   },
   "outputs": [
    {
     "data": {
      "text/plain": [
       "id                      0\n",
       "Brand                   0\n",
       "Material                0\n",
       "Size                    0\n",
       "Compartments            0\n",
       "Laptop Compartment      0\n",
       "Waterproof              0\n",
       "Style                   0\n",
       "Color                   0\n",
       "Weight Capacity (kg)    0\n",
       "dtype: int64"
      ]
     },
     "execution_count": 56,
     "metadata": {},
     "output_type": "execute_result"
    }
   ],
   "source": [
    "test_df.isnull().sum()"
   ]
  },
  {
   "cell_type": "code",
   "execution_count": 57,
   "id": "09df8c5a",
   "metadata": {
    "execution": {
     "iopub.execute_input": "2025-02-09T09:41:37.472576Z",
     "iopub.status.busy": "2025-02-09T09:41:37.472177Z",
     "iopub.status.idle": "2025-02-09T09:41:37.500900Z",
     "shell.execute_reply": "2025-02-09T09:41:37.499722Z"
    },
    "papermill": {
     "duration": 0.050258,
     "end_time": "2025-02-09T09:41:37.502791",
     "exception": false,
     "start_time": "2025-02-09T09:41:37.452533",
     "status": "completed"
    },
    "tags": []
   },
   "outputs": [
    {
     "data": {
      "text/plain": [
       "Compartments              0\n",
       "Weight Capacity (kg)      0\n",
       "Brand_Jansport            0\n",
       "Brand_Nike                0\n",
       "Brand_Puma                0\n",
       "Brand_Under Armour        0\n",
       "Material_Leather          0\n",
       "Material_Nylon            0\n",
       "Material_Polyester        0\n",
       "Size_Medium               0\n",
       "Size_Small                0\n",
       "Laptop Compartment_Yes    0\n",
       "Waterproof_Yes            0\n",
       "Style_Messenger           0\n",
       "Style_Tote                0\n",
       "Color_Blue                0\n",
       "Color_Gray                0\n",
       "Color_Green               0\n",
       "Color_Pink                0\n",
       "Color_Red                 0\n",
       "dtype: int64"
      ]
     },
     "execution_count": 57,
     "metadata": {},
     "output_type": "execute_result"
    }
   ],
   "source": [
    "P.isnull().sum()"
   ]
  },
  {
   "cell_type": "code",
   "execution_count": 58,
   "id": "cbd378c8",
   "metadata": {
    "execution": {
     "iopub.execute_input": "2025-02-09T09:41:37.541831Z",
     "iopub.status.busy": "2025-02-09T09:41:37.541422Z",
     "iopub.status.idle": "2025-02-09T09:41:37.565528Z",
     "shell.execute_reply": "2025-02-09T09:41:37.564415Z"
    },
    "papermill": {
     "duration": 0.045795,
     "end_time": "2025-02-09T09:41:37.567549",
     "exception": false,
     "start_time": "2025-02-09T09:41:37.521754",
     "status": "completed"
    },
    "tags": []
   },
   "outputs": [],
   "source": [
    "predictions = model.predict(P)"
   ]
  },
  {
   "cell_type": "code",
   "execution_count": 59,
   "id": "e3b42c0f",
   "metadata": {
    "execution": {
     "iopub.execute_input": "2025-02-09T09:41:37.606844Z",
     "iopub.status.busy": "2025-02-09T09:41:37.606439Z",
     "iopub.status.idle": "2025-02-09T09:41:37.612276Z",
     "shell.execute_reply": "2025-02-09T09:41:37.611118Z"
    },
    "papermill": {
     "duration": 0.02779,
     "end_time": "2025-02-09T09:41:37.614324",
     "exception": false,
     "start_time": "2025-02-09T09:41:37.586534",
     "status": "completed"
    },
    "tags": []
   },
   "outputs": [],
   "source": [
    "submission_df = pd.DataFrame({\n",
    "    'id': test_df['id'],  # Assuming 'id' exists in test_df\n",
    "    'Price': predictions\n",
    "})"
   ]
  },
  {
   "cell_type": "code",
   "execution_count": 60,
   "id": "577e68ee",
   "metadata": {
    "execution": {
     "iopub.execute_input": "2025-02-09T09:41:37.653855Z",
     "iopub.status.busy": "2025-02-09T09:41:37.653426Z",
     "iopub.status.idle": "2025-02-09T09:41:37.658522Z",
     "shell.execute_reply": "2025-02-09T09:41:37.657504Z"
    },
    "papermill": {
     "duration": 0.026809,
     "end_time": "2025-02-09T09:41:37.660353",
     "exception": false,
     "start_time": "2025-02-09T09:41:37.633544",
     "status": "completed"
    },
    "tags": []
   },
   "outputs": [],
   "source": [
    "test_df['id'] = range(300000, 300000 + len(test_df))"
   ]
  },
  {
   "cell_type": "code",
   "execution_count": 61,
   "id": "b0a16bec",
   "metadata": {
    "execution": {
     "iopub.execute_input": "2025-02-09T09:41:37.699769Z",
     "iopub.status.busy": "2025-02-09T09:41:37.699350Z",
     "iopub.status.idle": "2025-02-09T09:41:38.125813Z",
     "shell.execute_reply": "2025-02-09T09:41:38.124813Z"
    },
    "papermill": {
     "duration": 0.448916,
     "end_time": "2025-02-09T09:41:38.128033",
     "exception": false,
     "start_time": "2025-02-09T09:41:37.679117",
     "status": "completed"
    },
    "tags": []
   },
   "outputs": [],
   "source": [
    "submission_df.to_csv('submission.csv', index=False)"
   ]
  },
  {
   "cell_type": "code",
   "execution_count": null,
   "id": "0540b080",
   "metadata": {
    "papermill": {
     "duration": 0.018651,
     "end_time": "2025-02-09T09:41:38.165901",
     "exception": false,
     "start_time": "2025-02-09T09:41:38.147250",
     "status": "completed"
    },
    "tags": []
   },
   "outputs": [],
   "source": []
  }
 ],
 "metadata": {
  "kaggle": {
   "accelerator": "none",
   "dataSources": [
    {
     "databundleVersionId": 10995111,
     "sourceId": 90274,
     "sourceType": "competition"
    }
   ],
   "dockerImageVersionId": 30886,
   "isGpuEnabled": false,
   "isInternetEnabled": false,
   "language": "python",
   "sourceType": "notebook"
  },
  "kernelspec": {
   "display_name": "Python 3",
   "language": "python",
   "name": "python3"
  },
  "language_info": {
   "codemirror_mode": {
    "name": "ipython",
    "version": 3
   },
   "file_extension": ".py",
   "mimetype": "text/x-python",
   "name": "python",
   "nbconvert_exporter": "python",
   "pygments_lexer": "ipython3",
   "version": "3.10.12"
  },
  "papermill": {
   "default_parameters": {},
   "duration": 17.381113,
   "end_time": "2025-02-09T09:41:39.007013",
   "environment_variables": {},
   "exception": null,
   "input_path": "__notebook__.ipynb",
   "output_path": "__notebook__.ipynb",
   "parameters": {},
   "start_time": "2025-02-09T09:41:21.625900",
   "version": "2.6.0"
  }
 },
 "nbformat": 4,
 "nbformat_minor": 5
}
